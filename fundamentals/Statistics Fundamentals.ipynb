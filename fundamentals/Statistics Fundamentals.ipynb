{
 "cells": [
  {
   "cell_type": "markdown",
   "metadata": {},
   "source": [
    "# Statistics Fundamentals"
   ]
  },
  {
   "cell_type": "markdown",
   "metadata": {},
   "source": [
    "This notebook cover some fundamental statistic concepts applied to Data Science projects. This tutorial is based on the following Datacamp posts: \n",
    "\n",
    "- https://www.datacamp.com/community/tutorials/statistics-python-tutorial-probability-1\n",
    "- https://www.datacamp.com/community/tutorials/python-probability-tutorial"
   ]
  },
  {
   "cell_type": "markdown",
   "metadata": {},
   "source": [
    "## Imports"
   ]
  },
  {
   "cell_type": "code",
   "execution_count": 3,
   "metadata": {
    "ExecuteTime": {
     "end_time": "2018-02-24T16:39:03.850409Z",
     "start_time": "2018-02-24T16:39:03.847873Z"
    }
   },
   "outputs": [],
   "source": [
    "import math"
   ]
  },
  {
   "cell_type": "markdown",
   "metadata": {},
   "source": [
    "## Data Preparation"
   ]
  },
  {
   "cell_type": "code",
   "execution_count": null,
   "metadata": {},
   "outputs": [],
   "source": []
  },
  {
   "cell_type": "markdown",
   "metadata": {},
   "source": [
    "## Data Manipulation"
   ]
  },
  {
   "cell_type": "code",
   "execution_count": 3,
   "metadata": {
    "ExecuteTime": {
     "end_time": "2018-02-24T12:21:22.026612Z",
     "start_time": "2018-02-24T12:21:22.010630Z"
    }
   },
   "outputs": [
    {
     "name": "stdout",
     "output_type": "stream",
     "text": [
      "0.08\n"
     ]
    }
   ],
   "source": [
    "# Probability: the likelyhood of an event given a set of options (or sample space)\n",
    "\n",
    "# Sample Space\n",
    "cards = 52\n",
    "\n",
    "# Outcome\n",
    "aces = 4\n",
    "\n",
    "# Probability of getting an ace\n",
    "ace_probability = aces / cards\n",
    "\n",
    "# Print the result\n",
    "\n",
    "print(round(ace_probability, 2))"
   ]
  },
  {
   "cell_type": "code",
   "execution_count": 4,
   "metadata": {
    "ExecuteTime": {
     "end_time": "2018-02-24T12:22:54.964036Z",
     "start_time": "2018-02-24T12:22:54.946155Z"
    }
   },
   "outputs": [
    {
     "name": "stdout",
     "output_type": "stream",
     "text": [
      "8.0%\n"
     ]
    }
   ],
   "source": [
    "# Format probability as a percentage\n",
    "ace_probability_percentage = ace_probability * 100\n",
    "\n",
    "# Print the result\n",
    "print(str(round(ace_probability_percentage, 0)) + '%')"
   ]
  },
  {
   "cell_type": "code",
   "execution_count": 1,
   "metadata": {
    "ExecuteTime": {
     "end_time": "2018-02-24T16:18:54.833834Z",
     "start_time": "2018-02-24T16:18:54.825677Z"
    }
   },
   "outputs": [],
   "source": [
    "# Define a function to calculate probabilities\n",
    "def event_probability(event_outcomes, sample_space):\n",
    "    probability = (event_outcomes / sample_space) * 100\n",
    "    return round(probability, 1)"
   ]
  },
  {
   "cell_type": "code",
   "execution_count": 2,
   "metadata": {
    "ExecuteTime": {
     "end_time": "2018-02-24T16:23:02.308316Z",
     "start_time": "2018-02-24T16:23:02.287861Z"
    }
   },
   "outputs": [
    {
     "name": "stdout",
     "output_type": "stream",
     "text": [
      "25.0%\n",
      "23.1%\n",
      "1.9%\n"
     ]
    }
   ],
   "source": [
    "# Calculate different probabilities for a deck of cards\n",
    "\n",
    "# Sample space (number of available cards in the deck)\n",
    "cards = 52\n",
    "\n",
    "# Probability of drawing a heart\n",
    "heart_cards = 13\n",
    "heart_cards_probability = event_probability(heart_cards, cards)\n",
    "\n",
    "# Probability of drawing a face card\n",
    "face_cards = 12\n",
    "face_cards_probability = event_probability(face_cards, cards)\n",
    "\n",
    "# Probability of drawing the queen of hearts\n",
    "queen_of_hearts = 1\n",
    "queen_of_hearts_probability = event_probability(queen_of_hearts, cards)\n",
    "\n",
    "# Print probabilities\n",
    "print(str(heart_cards_probability) + '%')\n",
    "print(str(face_cards_probability) + '%')\n",
    "print(str(queen_of_hearts_probability) + '%')"
   ]
  },
  {
   "cell_type": "code",
   "execution_count": 5,
   "metadata": {
    "ExecuteTime": {
     "end_time": "2018-02-24T16:42:04.762192Z",
     "start_time": "2018-02-24T16:42:04.744648Z"
    }
   },
   "outputs": [
    {
     "name": "stdout",
     "output_type": "stream",
     "text": [
      "12.0\n"
     ]
    }
   ],
   "source": [
    "# Calculating permutations and combinations\n",
    "\n",
    "# Find the number of permutations for pocket aces\n",
    "n = 4 # Number of aces\n",
    "k = 2 # Number of aces to be drawn\n",
    "\n",
    "permutations = math.factorial(n) / math.factorial(k)\n",
    "print(permutations)"
   ]
  },
  {
   "cell_type": "code",
   "execution_count": 6,
   "metadata": {
    "ExecuteTime": {
     "end_time": "2018-02-24T16:43:30.673163Z",
     "start_time": "2018-02-24T16:43:30.669064Z"
    }
   },
   "outputs": [
    {
     "name": "stdout",
     "output_type": "stream",
     "text": [
      "6.0\n"
     ]
    }
   ],
   "source": [
    "# Find the number of combinations for pocket aces\n",
    "combinations = permutations / math.factorial(k)\n",
    "print(combinations)"
   ]
  },
  {
   "cell_type": "code",
   "execution_count": 7,
   "metadata": {
    "ExecuteTime": {
     "end_time": "2018-02-24T16:53:13.506129Z",
     "start_time": "2018-02-24T16:53:13.481173Z"
    }
   },
   "outputs": [
    {
     "name": "stdout",
     "output_type": "stream",
     "text": [
      "7.8\n",
      "5.9\n"
     ]
    }
   ],
   "source": [
    "# Calculate the probability of drawing and ace given that the first drawn was either an ace or a king\n",
    "\n",
    "# Determine the sample space\n",
    "cards = 52\n",
    "cards_drawn = 1\n",
    "cards = cards - cards_drawn\n",
    "\n",
    "# Determine the probability of drawing an ace given that a card was already taken\n",
    "aces = 4\n",
    "ace_probability1 = event_probability(aces, cards)\n",
    "\n",
    "# Determine the probability of drawing an ace after taking an ace previously\n",
    "aces_drawn = 1\n",
    "aces = aces - aces_drawn\n",
    "ace_probability2 = event_probability(aces, cards)\n",
    "\n",
    "# Print each probability\n",
    "print(ace_probability1)\n",
    "print(ace_probability2)"
   ]
  },
  {
   "cell_type": "code",
   "execution_count": 11,
   "metadata": {
    "ExecuteTime": {
     "end_time": "2018-02-24T17:04:04.527516Z",
     "start_time": "2018-02-24T17:04:04.498636Z"
    }
   },
   "outputs": [
    {
     "name": "stdout",
     "output_type": "stream",
     "text": [
      "19.6\n"
     ]
    }
   ],
   "source": [
    "# Calculate the probability of drawing a diamond card in the River Card\n",
    "\n",
    "# Sample space\n",
    "cards = 52\n",
    "hole_cards = 2\n",
    "turn_community_cards = 4\n",
    "cards = cards - (hole_cards + turn_community_cards)\n",
    "\n",
    "# Outcomes\n",
    "diamonds = 13\n",
    "diamonds_drawn = 4\n",
    "\n",
    "# Outs (cards that complete a draw)\n",
    "outs = diamonds - diamonds_drawn\n",
    "\n",
    "# Determine River Flush probability\n",
    "river_flush_probability = event_probability(outs, cards)\n",
    "print(river_flush_probability)"
   ]
  },
  {
   "cell_type": "code",
   "execution_count": null,
   "metadata": {},
   "outputs": [],
   "source": []
  }
 ],
 "metadata": {
  "kernelspec": {
   "display_name": "Python 3",
   "language": "python",
   "name": "python3"
  },
  "language_info": {
   "codemirror_mode": {
    "name": "ipython",
    "version": 3
   },
   "file_extension": ".py",
   "mimetype": "text/x-python",
   "name": "python",
   "nbconvert_exporter": "python",
   "pygments_lexer": "ipython3",
   "version": "3.6.3"
  },
  "varInspector": {
   "cols": {
    "lenName": 16,
    "lenType": 16,
    "lenVar": 40
   },
   "kernels_config": {
    "python": {
     "delete_cmd_postfix": "",
     "delete_cmd_prefix": "del ",
     "library": "var_list.py",
     "varRefreshCmd": "print(var_dic_list())"
    },
    "r": {
     "delete_cmd_postfix": ") ",
     "delete_cmd_prefix": "rm(",
     "library": "var_list.r",
     "varRefreshCmd": "cat(var_dic_list()) "
    }
   },
   "types_to_exclude": [
    "module",
    "function",
    "builtin_function_or_method",
    "instance",
    "_Feature"
   ],
   "window_display": false
  }
 },
 "nbformat": 4,
 "nbformat_minor": 2
}
