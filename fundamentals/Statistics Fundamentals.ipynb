{
 "cells": [
  {
   "cell_type": "markdown",
   "metadata": {},
   "source": [
    "# Statistics Fundamentals"
   ]
  },
  {
   "cell_type": "markdown",
   "metadata": {},
   "source": [
    "This notebook cover some fundamental statistic concepts applied to Data Science projects. This tutorial is based on the following Datacamp posts: \n",
    "\n",
    "- https://www.datacamp.com/community/tutorials/statistics-python-tutorial-probability-1\n",
    "- https://www.datacamp.com/community/tutorials/python-probability-tutorial"
   ]
  },
  {
   "cell_type": "markdown",
   "metadata": {},
   "source": [
    "## Imports"
   ]
  },
  {
   "cell_type": "code",
   "execution_count": 2,
   "metadata": {
    "ExecuteTime": {
     "end_time": "2018-02-25T19:18:29.321781Z",
     "start_time": "2018-02-25T19:18:29.318303Z"
    }
   },
   "outputs": [],
   "source": [
    "import math"
   ]
  },
  {
   "cell_type": "markdown",
   "metadata": {},
   "source": [
    "## Data Preparation"
   ]
  },
  {
   "cell_type": "code",
   "execution_count": null,
   "metadata": {},
   "outputs": [],
   "source": []
  },
  {
   "cell_type": "markdown",
   "metadata": {},
   "source": [
    "## Data Manipulation"
   ]
  },
  {
   "cell_type": "code",
   "execution_count": 3,
   "metadata": {
    "ExecuteTime": {
     "end_time": "2018-02-25T19:18:29.336141Z",
     "start_time": "2018-02-25T19:18:29.329007Z"
    }
   },
   "outputs": [
    {
     "name": "stdout",
     "output_type": "stream",
     "text": [
      "0.08\n"
     ]
    }
   ],
   "source": [
    "# Probability: the likelyhood of an event given a set of options (or sample space)\n",
    "\n",
    "# Sample Space\n",
    "cards = 52\n",
    "\n",
    "# Outcome\n",
    "aces = 4\n",
    "\n",
    "# Probability of getting an ace\n",
    "ace_probability = aces / cards\n",
    "\n",
    "# Print the result\n",
    "\n",
    "print(round(ace_probability, 2))"
   ]
  },
  {
   "cell_type": "code",
   "execution_count": 4,
   "metadata": {
    "ExecuteTime": {
     "end_time": "2018-02-25T19:18:29.342600Z",
     "start_time": "2018-02-25T19:18:29.338344Z"
    }
   },
   "outputs": [
    {
     "name": "stdout",
     "output_type": "stream",
     "text": [
      "8.0%\n"
     ]
    }
   ],
   "source": [
    "# Format probability as a percentage\n",
    "ace_probability_percentage = ace_probability * 100\n",
    "\n",
    "# Print the result\n",
    "print(str(round(ace_probability_percentage, 0)) + '%')"
   ]
  },
  {
   "cell_type": "code",
   "execution_count": 5,
   "metadata": {
    "ExecuteTime": {
     "end_time": "2018-02-25T19:18:29.347074Z",
     "start_time": "2018-02-25T19:18:29.344046Z"
    }
   },
   "outputs": [],
   "source": [
    "# Define a function to calculate probabilities\n",
    "def event_probability(event_outcomes, sample_space):\n",
    "    probability = (event_outcomes / sample_space) * 100\n",
    "    return round(probability, 1)"
   ]
  },
  {
   "cell_type": "code",
   "execution_count": 6,
   "metadata": {
    "ExecuteTime": {
     "end_time": "2018-02-25T19:18:29.358463Z",
     "start_time": "2018-02-25T19:18:29.348518Z"
    }
   },
   "outputs": [
    {
     "name": "stdout",
     "output_type": "stream",
     "text": [
      "25.0%\n",
      "23.1%\n",
      "1.9%\n"
     ]
    }
   ],
   "source": [
    "# Calculate different probabilities for a deck of cards\n",
    "\n",
    "# Sample space (number of available cards in the deck)\n",
    "cards = 52\n",
    "\n",
    "# Probability of drawing a heart\n",
    "heart_cards = 13\n",
    "heart_cards_probability = event_probability(heart_cards, cards)\n",
    "\n",
    "# Probability of drawing a face card\n",
    "face_cards = 12\n",
    "face_cards_probability = event_probability(face_cards, cards)\n",
    "\n",
    "# Probability of drawing the queen of hearts\n",
    "queen_of_hearts = 1\n",
    "queen_of_hearts_probability = event_probability(queen_of_hearts, cards)\n",
    "\n",
    "# Print probabilities\n",
    "print(str(heart_cards_probability) + '%')\n",
    "print(str(face_cards_probability) + '%')\n",
    "print(str(queen_of_hearts_probability) + '%')"
   ]
  },
  {
   "cell_type": "code",
   "execution_count": 7,
   "metadata": {
    "ExecuteTime": {
     "end_time": "2018-02-25T19:18:29.363911Z",
     "start_time": "2018-02-25T19:18:29.359829Z"
    }
   },
   "outputs": [
    {
     "name": "stdout",
     "output_type": "stream",
     "text": [
      "12.0\n"
     ]
    }
   ],
   "source": [
    "# Calculating permutations and combinations\n",
    "\n",
    "# Find the number of permutations for pocket aces\n",
    "n = 4 # Number of aces\n",
    "k = 2 # Number of aces to be drawn\n",
    "\n",
    "permutations = math.factorial(n) / math.factorial(k)\n",
    "print(permutations)"
   ]
  },
  {
   "cell_type": "code",
   "execution_count": 8,
   "metadata": {
    "ExecuteTime": {
     "end_time": "2018-02-25T19:18:29.368467Z",
     "start_time": "2018-02-25T19:18:29.365296Z"
    }
   },
   "outputs": [
    {
     "name": "stdout",
     "output_type": "stream",
     "text": [
      "6.0\n"
     ]
    }
   ],
   "source": [
    "# Find the number of combinations for pocket aces\n",
    "combinations = permutations / math.factorial(k)\n",
    "print(combinations)"
   ]
  },
  {
   "cell_type": "code",
   "execution_count": 9,
   "metadata": {
    "ExecuteTime": {
     "end_time": "2018-02-25T19:18:29.378613Z",
     "start_time": "2018-02-25T19:18:29.369905Z"
    }
   },
   "outputs": [
    {
     "name": "stdout",
     "output_type": "stream",
     "text": [
      "7.8\n",
      "5.9\n"
     ]
    }
   ],
   "source": [
    "# Calculate the probability of drawing and ace given that the first drawn was either an ace or a king\n",
    "\n",
    "# Determine the sample space\n",
    "cards = 52\n",
    "cards_drawn = 1\n",
    "cards = cards - cards_drawn\n",
    "\n",
    "# Determine the probability of drawing an ace given that a card was already taken\n",
    "aces = 4\n",
    "ace_probability1 = event_probability(aces, cards)\n",
    "\n",
    "# Determine the probability of drawing an ace after taking an ace previously\n",
    "aces_drawn = 1\n",
    "aces = aces - aces_drawn\n",
    "ace_probability2 = event_probability(aces, cards)\n",
    "\n",
    "# Print each probability\n",
    "print(ace_probability1)\n",
    "print(ace_probability2)"
   ]
  },
  {
   "cell_type": "code",
   "execution_count": 10,
   "metadata": {
    "ExecuteTime": {
     "end_time": "2018-02-25T19:18:29.398213Z",
     "start_time": "2018-02-25T19:18:29.380008Z"
    }
   },
   "outputs": [
    {
     "name": "stdout",
     "output_type": "stream",
     "text": [
      "19.6\n"
     ]
    }
   ],
   "source": [
    "# Calculate the probability of drawing a diamond card in the River Card\n",
    "\n",
    "# Sample space\n",
    "cards = 52\n",
    "hole_cards = 2\n",
    "turn_community_cards = 4\n",
    "cards = cards - (hole_cards + turn_community_cards)\n",
    "\n",
    "# Outcomes\n",
    "diamonds = 13\n",
    "diamonds_drawn = 4\n",
    "\n",
    "# Outs (cards that complete a draw)\n",
    "outs = diamonds - diamonds_drawn\n",
    "\n",
    "# Determine River Flush probability\n",
    "river_flush_probability = event_probability(outs, cards)\n",
    "print(river_flush_probability)"
   ]
  },
  {
   "cell_type": "code",
   "execution_count": 11,
   "metadata": {
    "ExecuteTime": {
     "end_time": "2018-02-25T19:18:29.415945Z",
     "start_time": "2018-02-25T19:18:29.402056Z"
    }
   },
   "outputs": [
    {
     "name": "stdout",
     "output_type": "stream",
     "text": [
      "17.4\n"
     ]
    }
   ],
   "source": [
    "# Calculate the probability of the River Card completing a Straight\n",
    "\n",
    "# Sample space\n",
    "cards = 52\n",
    "hole_cards = 2\n",
    "turn_community_cards = 4\n",
    "cards = cards - (hole_cards + turn_community_cards)\n",
    "\n",
    "# Outcomes\n",
    "eights = 4\n",
    "kings = 4\n",
    "outs = eights + kings\n",
    "\n",
    "# river straight probability\n",
    "river_straight_probability = event_probability(outs, cards)\n",
    "print(river_straight_probability)"
   ]
  },
  {
   "cell_type": "code",
   "execution_count": 12,
   "metadata": {
    "ExecuteTime": {
     "end_time": "2018-02-25T19:26:46.482275Z",
     "start_time": "2018-02-25T19:26:46.452302Z"
    }
   },
   "outputs": [
    {
     "name": "stdout",
     "output_type": "stream",
     "text": [
      "50.0\n",
      "23.1\n"
     ]
    }
   ],
   "source": [
    "# Mutually exclusive\n",
    "\n",
    "# Calculate the probability of drawing a heart or a club and, separately, the probability of drawing an ace, a king or a queen\n",
    "\n",
    "# Sample space\n",
    "cards = 52\n",
    "\n",
    "# Probability of drawing a heart or a club\n",
    "hearts = 13\n",
    "clubs = 13\n",
    "heart_or_club = event_probability(hearts, cards) + event_probability(clubs, cards)\n",
    "\n",
    "# Probability of drawing an ace, a king or a queen\n",
    "aces = 4\n",
    "kings = 4\n",
    "queens = 4\n",
    "ace_king_or_queen = event_probability(aces, cards) + event_probability(kings, cards) + event_probability(queens, cards)\n",
    "\n",
    "print(heart_or_club)\n",
    "print(ace_king_or_queen)"
   ]
  },
  {
   "cell_type": "code",
   "execution_count": 14,
   "metadata": {
    "ExecuteTime": {
     "end_time": "2018-02-25T19:33:56.108469Z",
     "start_time": "2018-02-25T19:33:56.094578Z"
    }
   },
   "outputs": [
    {
     "name": "stdout",
     "output_type": "stream",
     "text": [
      "30.8\n",
      "61.6\n"
     ]
    }
   ],
   "source": [
    "# Non mutually exclusive\n",
    "\n",
    "# Calculate the probability of drawing a heart or an ace and, separately, drawing a red card or face card\n",
    "\n",
    "# Sample space\n",
    "cards = 52\n",
    "\n",
    "# Probability of drawing a heart or an ace\n",
    "hearts = 13\n",
    "aces = 4\n",
    "ace_of_hearts = 1\n",
    "heart_or_ace = event_probability(hearts, cards) + event_probability(aces, cards) - event_probability(ace_of_hearts, cards)\n",
    "\n",
    "# Probability of drawing a red card of a face card\n",
    "red_cards = 26\n",
    "face_cards = 12\n",
    "red_face_cards = 6\n",
    "red_or_face_cards = event_probability(red_cards, cards) + event_probability(face_cards, cards) - event_probability(red_face_cards, cards)\n",
    "\n",
    "print(round(heart_or_ace, 1))\n",
    "print(round(red_or_face_cards, 1))"
   ]
  },
  {
   "cell_type": "code",
   "execution_count": 18,
   "metadata": {
    "ExecuteTime": {
     "end_time": "2018-02-25T19:39:33.084355Z",
     "start_time": "2018-02-25T19:39:33.073604Z"
    }
   },
   "outputs": [
    {
     "name": "stdout",
     "output_type": "stream",
     "text": [
      "0.6\n"
     ]
    }
   ],
   "source": [
    "# Probability of drawing an ace twice\n",
    "\n",
    "# Sample space\n",
    "cards = 52\n",
    "\n",
    "# Outcomes\n",
    "aces = 4\n",
    "\n",
    "# Probability of one ace\n",
    "ace_probability = aces / cards\n",
    "\n",
    "# Probability of two consecutive independent aces\n",
    "two_aces_probability = ace_probability * ace_probability\n",
    "two_aces_probability_percent = two_aces_probability * 100\n",
    "\n",
    "print(round(two_aces_probability_percent, 1))"
   ]
  },
  {
   "cell_type": "code",
   "execution_count": null,
   "metadata": {},
   "outputs": [],
   "source": []
  }
 ],
 "metadata": {
  "kernelspec": {
   "display_name": "Python 3",
   "language": "python",
   "name": "python3"
  },
  "language_info": {
   "codemirror_mode": {
    "name": "ipython",
    "version": 3
   },
   "file_extension": ".py",
   "mimetype": "text/x-python",
   "name": "python",
   "nbconvert_exporter": "python",
   "pygments_lexer": "ipython3",
   "version": "3.6.3"
  },
  "varInspector": {
   "cols": {
    "lenName": 16,
    "lenType": 16,
    "lenVar": 40
   },
   "kernels_config": {
    "python": {
     "delete_cmd_postfix": "",
     "delete_cmd_prefix": "del ",
     "library": "var_list.py",
     "varRefreshCmd": "print(var_dic_list())"
    },
    "r": {
     "delete_cmd_postfix": ") ",
     "delete_cmd_prefix": "rm(",
     "library": "var_list.r",
     "varRefreshCmd": "cat(var_dic_list()) "
    }
   },
   "types_to_exclude": [
    "module",
    "function",
    "builtin_function_or_method",
    "instance",
    "_Feature"
   ],
   "window_display": false
  }
 },
 "nbformat": 4,
 "nbformat_minor": 2
}
