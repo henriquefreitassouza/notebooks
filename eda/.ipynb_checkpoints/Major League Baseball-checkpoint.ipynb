{
 "cells": [
  {
   "cell_type": "markdown",
   "metadata": {},
   "source": [
    "# Major League Baseball"
   ]
  },
  {
   "cell_type": "markdown",
   "metadata": {},
   "source": [
    "This is a scikit learn tutorial based on a Datacamp tutorial with 2 parts: \n",
    "- https://www.datacamp.com/community/tutorials/scikit-learn-tutorial-baseball-1\n",
    "- https://www.datacamp.com/community/tutorials/scikit-learn-tutorial-baseball-2\n",
    "\n",
    "The databased used contains information about games played by the Major-League Baseball team. Models will be trained to predict wins on unseen data."
   ]
  },
  {
   "cell_type": "markdown",
   "metadata": {},
   "source": [
    "## Part 1"
   ]
  },
  {
   "cell_type": "markdown",
   "metadata": {},
   "source": [
    "The first part of the tutorial will teach how to predict the number of games that a Major-League Baseball (MLB) will win on a given season."
   ]
  },
  {
   "cell_type": "markdown",
   "metadata": {},
   "source": [
    "## Imports"
   ]
  },
  {
   "cell_type": "code",
   "execution_count": 1,
   "metadata": {},
   "outputs": [],
   "source": [
    "import pandas as pd\n",
    "import matplotlib.pyplot as plt\n",
    "import seaborn as sns\n",
    "import sqlite3\n",
    "from sklearn.cluster import KMeans\n",
    "from sklearn import metrics\n",
    "from sklearn.linear_model import LinearRegression\n",
    "from sklearn.linear_model import RidgeCV"
   ]
  },
  {
   "cell_type": "code",
   "execution_count": 2,
   "metadata": {},
   "outputs": [],
   "source": [
    "# Force inline show of plots\n",
    "%matplotlib inline"
   ]
  },
  {
   "cell_type": "markdown",
   "metadata": {},
   "source": [
    "## Data preparation"
   ]
  },
  {
   "cell_type": "code",
   "execution_count": 3,
   "metadata": {},
   "outputs": [],
   "source": [
    "# Create a connection to the database\n",
    "conn = sqlite3.connect('data/lahman2016.sqlite')"
   ]
  },
  {
   "cell_type": "markdown",
   "metadata": {},
   "source": [
    "## Data manipulation"
   ]
  },
  {
   "cell_type": "code",
   "execution_count": 4,
   "metadata": {},
   "outputs": [],
   "source": [
    "# Build a query to select information from teams who have played 150 or more games and are still active\n",
    "query = '''SELECT * FROM Teams \n",
    "INNER JOIN TeamsFranchises \n",
    "ON Teams.franchID == TeamsFranchises.franchID\n",
    "WHERE teams.G >= 150 AND TeamsFranchises.active == 'Y'\n",
    "'''\n",
    "\n",
    "# Execute the query\n",
    "teams = conn.execute(query).fetchall()"
   ]
  },
  {
   "cell_type": "code",
   "execution_count": 5,
   "metadata": {},
   "outputs": [],
   "source": [
    "# Create a dataframe from the data\n",
    "teams_df = pd.DataFrame(teams)"
   ]
  },
  {
   "cell_type": "code",
   "execution_count": 6,
   "metadata": {},
   "outputs": [
    {
     "data": {
      "text/html": [
       "<div>\n",
       "<style scoped>\n",
       "    .dataframe tbody tr th:only-of-type {\n",
       "        vertical-align: middle;\n",
       "    }\n",
       "\n",
       "    .dataframe tbody tr th {\n",
       "        vertical-align: top;\n",
       "    }\n",
       "\n",
       "    .dataframe thead th {\n",
       "        text-align: right;\n",
       "    }\n",
       "</style>\n",
       "<table border=\"1\" class=\"dataframe\">\n",
       "  <thead>\n",
       "    <tr style=\"text-align: right;\">\n",
       "      <th></th>\n",
       "      <th>0</th>\n",
       "      <th>1</th>\n",
       "      <th>2</th>\n",
       "      <th>3</th>\n",
       "      <th>4</th>\n",
       "      <th>5</th>\n",
       "      <th>6</th>\n",
       "      <th>7</th>\n",
       "      <th>8</th>\n",
       "      <th>9</th>\n",
       "      <th>...</th>\n",
       "      <th>42</th>\n",
       "      <th>43</th>\n",
       "      <th>44</th>\n",
       "      <th>45</th>\n",
       "      <th>46</th>\n",
       "      <th>47</th>\n",
       "      <th>48</th>\n",
       "      <th>49</th>\n",
       "      <th>50</th>\n",
       "      <th>51</th>\n",
       "    </tr>\n",
       "  </thead>\n",
       "  <tbody>\n",
       "    <tr>\n",
       "      <th>0</th>\n",
       "      <td>1961</td>\n",
       "      <td>AL</td>\n",
       "      <td>LAA</td>\n",
       "      <td>ANA</td>\n",
       "      <td>None</td>\n",
       "      <td>8</td>\n",
       "      <td>162</td>\n",
       "      <td>82.0</td>\n",
       "      <td>70</td>\n",
       "      <td>91</td>\n",
       "      <td>...</td>\n",
       "      <td>603510</td>\n",
       "      <td>111</td>\n",
       "      <td>112</td>\n",
       "      <td>LAA</td>\n",
       "      <td>LAA</td>\n",
       "      <td>LAA</td>\n",
       "      <td>ANA</td>\n",
       "      <td>Los Angeles Angels of Anaheim</td>\n",
       "      <td>Y</td>\n",
       "      <td>None</td>\n",
       "    </tr>\n",
       "    <tr>\n",
       "      <th>1</th>\n",
       "      <td>1962</td>\n",
       "      <td>AL</td>\n",
       "      <td>LAA</td>\n",
       "      <td>ANA</td>\n",
       "      <td>None</td>\n",
       "      <td>3</td>\n",
       "      <td>162</td>\n",
       "      <td>81.0</td>\n",
       "      <td>86</td>\n",
       "      <td>76</td>\n",
       "      <td>...</td>\n",
       "      <td>1144063</td>\n",
       "      <td>97</td>\n",
       "      <td>97</td>\n",
       "      <td>LAA</td>\n",
       "      <td>LAA</td>\n",
       "      <td>LAA</td>\n",
       "      <td>ANA</td>\n",
       "      <td>Los Angeles Angels of Anaheim</td>\n",
       "      <td>Y</td>\n",
       "      <td>None</td>\n",
       "    </tr>\n",
       "    <tr>\n",
       "      <th>2</th>\n",
       "      <td>1963</td>\n",
       "      <td>AL</td>\n",
       "      <td>LAA</td>\n",
       "      <td>ANA</td>\n",
       "      <td>None</td>\n",
       "      <td>9</td>\n",
       "      <td>161</td>\n",
       "      <td>81.0</td>\n",
       "      <td>70</td>\n",
       "      <td>91</td>\n",
       "      <td>...</td>\n",
       "      <td>821015</td>\n",
       "      <td>94</td>\n",
       "      <td>94</td>\n",
       "      <td>LAA</td>\n",
       "      <td>LAA</td>\n",
       "      <td>LAA</td>\n",
       "      <td>ANA</td>\n",
       "      <td>Los Angeles Angels of Anaheim</td>\n",
       "      <td>Y</td>\n",
       "      <td>None</td>\n",
       "    </tr>\n",
       "    <tr>\n",
       "      <th>3</th>\n",
       "      <td>1964</td>\n",
       "      <td>AL</td>\n",
       "      <td>LAA</td>\n",
       "      <td>ANA</td>\n",
       "      <td>None</td>\n",
       "      <td>5</td>\n",
       "      <td>162</td>\n",
       "      <td>81.0</td>\n",
       "      <td>82</td>\n",
       "      <td>80</td>\n",
       "      <td>...</td>\n",
       "      <td>760439</td>\n",
       "      <td>90</td>\n",
       "      <td>90</td>\n",
       "      <td>LAA</td>\n",
       "      <td>LAA</td>\n",
       "      <td>LAA</td>\n",
       "      <td>ANA</td>\n",
       "      <td>Los Angeles Angels of Anaheim</td>\n",
       "      <td>Y</td>\n",
       "      <td>None</td>\n",
       "    </tr>\n",
       "    <tr>\n",
       "      <th>4</th>\n",
       "      <td>1965</td>\n",
       "      <td>AL</td>\n",
       "      <td>CAL</td>\n",
       "      <td>ANA</td>\n",
       "      <td>None</td>\n",
       "      <td>7</td>\n",
       "      <td>162</td>\n",
       "      <td>80.0</td>\n",
       "      <td>75</td>\n",
       "      <td>87</td>\n",
       "      <td>...</td>\n",
       "      <td>566727</td>\n",
       "      <td>97</td>\n",
       "      <td>98</td>\n",
       "      <td>CAL</td>\n",
       "      <td>CAL</td>\n",
       "      <td>CAL</td>\n",
       "      <td>ANA</td>\n",
       "      <td>Los Angeles Angels of Anaheim</td>\n",
       "      <td>Y</td>\n",
       "      <td>None</td>\n",
       "    </tr>\n",
       "  </tbody>\n",
       "</table>\n",
       "<p>5 rows × 52 columns</p>\n",
       "</div>"
      ],
      "text/plain": [
       "     0   1    2    3     4   5    6     7   8   9   ...        42   43   44  \\\n",
       "0  1961  AL  LAA  ANA  None   8  162  82.0  70  91  ...    603510  111  112   \n",
       "1  1962  AL  LAA  ANA  None   3  162  81.0  86  76  ...   1144063   97   97   \n",
       "2  1963  AL  LAA  ANA  None   9  161  81.0  70  91  ...    821015   94   94   \n",
       "3  1964  AL  LAA  ANA  None   5  162  81.0  82  80  ...    760439   90   90   \n",
       "4  1965  AL  CAL  ANA  None   7  162  80.0  75  87  ...    566727   97   98   \n",
       "\n",
       "    45   46   47   48                             49  50    51  \n",
       "0  LAA  LAA  LAA  ANA  Los Angeles Angels of Anaheim   Y  None  \n",
       "1  LAA  LAA  LAA  ANA  Los Angeles Angels of Anaheim   Y  None  \n",
       "2  LAA  LAA  LAA  ANA  Los Angeles Angels of Anaheim   Y  None  \n",
       "3  LAA  LAA  LAA  ANA  Los Angeles Angels of Anaheim   Y  None  \n",
       "4  CAL  CAL  CAL  ANA  Los Angeles Angels of Anaheim   Y  None  \n",
       "\n",
       "[5 rows x 52 columns]"
      ]
     },
     "execution_count": 6,
     "metadata": {},
     "output_type": "execute_result"
    }
   ],
   "source": [
    "# Show the data\n",
    "teams_df.head()"
   ]
  },
  {
   "cell_type": "code",
   "execution_count": 7,
   "metadata": {},
   "outputs": [],
   "source": [
    "# Create column names\n",
    "cols = ['yearID','lgID','teamID','franchID','divID','Rank','G','Ghome','W','L','DivWin','WCWin','LgWin','WSWin','R','AB','H','2B','3B','HR','BB','SO','SB','CS','HBP','SF','RA','ER','ERA','CG','SHO','SV','IPouts','HA','HRA','BBA','SOA','E','DP','FP','name','park','attendance','BPF','PPF','teamIDBR','teamIDlahman45','teamIDretro','franchID','franchName','active','NAassoc']\n",
    "\n",
    "# Assign column names\n",
    "teams_df.columns = cols"
   ]
  },
  {
   "cell_type": "code",
   "execution_count": 8,
   "metadata": {},
   "outputs": [
    {
     "name": "stdout",
     "output_type": "stream",
     "text": [
      "<class 'pandas.core.frame.DataFrame'>\n",
      "RangeIndex: 2287 entries, 0 to 2286\n",
      "Data columns (total 52 columns):\n",
      "yearID            2287 non-null int64\n",
      "lgID              2287 non-null object\n",
      "teamID            2287 non-null object\n",
      "franchID          2287 non-null object\n",
      "divID             1236 non-null object\n",
      "Rank              2287 non-null int64\n",
      "G                 2287 non-null int64\n",
      "Ghome             2265 non-null float64\n",
      "W                 2287 non-null int64\n",
      "L                 2287 non-null int64\n",
      "DivWin            1236 non-null object\n",
      "WCWin             626 non-null object\n",
      "LgWin             2287 non-null object\n",
      "WSWin             2249 non-null object\n",
      "R                 2287 non-null int64\n",
      "AB                2287 non-null int64\n",
      "H                 2287 non-null int64\n",
      "2B                2287 non-null int64\n",
      "3B                2287 non-null int64\n",
      "HR                2287 non-null int64\n",
      "BB                2287 non-null int64\n",
      "SO                2177 non-null float64\n",
      "SB                2287 non-null int64\n",
      "CS                1868 non-null float64\n",
      "HBP               510 non-null float64\n",
      "SF                510 non-null float64\n",
      "RA                2287 non-null int64\n",
      "ER                2287 non-null int64\n",
      "ERA               2287 non-null float64\n",
      "CG                2287 non-null int64\n",
      "SHO               2287 non-null int64\n",
      "SV                2287 non-null int64\n",
      "IPouts            2287 non-null int64\n",
      "HA                2287 non-null int64\n",
      "HRA               2287 non-null int64\n",
      "BBA               2287 non-null int64\n",
      "SOA               2287 non-null int64\n",
      "E                 2287 non-null int64\n",
      "DP                2265 non-null float64\n",
      "FP                2287 non-null float64\n",
      "name              2287 non-null object\n",
      "park              2287 non-null object\n",
      "attendance        2287 non-null int64\n",
      "BPF               2287 non-null int64\n",
      "PPF               2287 non-null int64\n",
      "teamIDBR          2287 non-null object\n",
      "teamIDlahman45    2287 non-null object\n",
      "teamIDretro       2287 non-null object\n",
      "franchID          2287 non-null object\n",
      "franchName        2287 non-null object\n",
      "active            2287 non-null object\n",
      "NAassoc           221 non-null object\n",
      "dtypes: float64(8), int64(27), object(17)\n",
      "memory usage: 929.2+ KB\n"
     ]
    }
   ],
   "source": [
    "teams_df.info()"
   ]
  },
  {
   "cell_type": "code",
   "execution_count": 9,
   "metadata": {},
   "outputs": [],
   "source": [
    "# Assign columns to be dropped\n",
    "drop_cols = ['lgID','franchID','divID','Rank','Ghome','L','DivWin','WCWin','LgWin','WSWin','SF','name','park','attendance','BPF','PPF','teamIDBR','teamIDlahman45','teamIDretro','franchID','franchName','active','NAassoc']\n",
    "\n",
    "# Create a new dataframe without the unnecessary columns\n",
    "df = teams_df.drop(drop_cols, axis=1)"
   ]
  },
  {
   "cell_type": "code",
   "execution_count": 10,
   "metadata": {},
   "outputs": [
    {
     "name": "stdout",
     "output_type": "stream",
     "text": [
      "<class 'pandas.core.frame.DataFrame'>\n",
      "RangeIndex: 2287 entries, 0 to 2286\n",
      "Data columns (total 29 columns):\n",
      "yearID    2287 non-null int64\n",
      "teamID    2287 non-null object\n",
      "G         2287 non-null int64\n",
      "W         2287 non-null int64\n",
      "R         2287 non-null int64\n",
      "AB        2287 non-null int64\n",
      "H         2287 non-null int64\n",
      "2B        2287 non-null int64\n",
      "3B        2287 non-null int64\n",
      "HR        2287 non-null int64\n",
      "BB        2287 non-null int64\n",
      "SO        2177 non-null float64\n",
      "SB        2287 non-null int64\n",
      "CS        1868 non-null float64\n",
      "HBP       510 non-null float64\n",
      "RA        2287 non-null int64\n",
      "ER        2287 non-null int64\n",
      "ERA       2287 non-null float64\n",
      "CG        2287 non-null int64\n",
      "SHO       2287 non-null int64\n",
      "SV        2287 non-null int64\n",
      "IPouts    2287 non-null int64\n",
      "HA        2287 non-null int64\n",
      "HRA       2287 non-null int64\n",
      "BBA       2287 non-null int64\n",
      "SOA       2287 non-null int64\n",
      "E         2287 non-null int64\n",
      "DP        2265 non-null float64\n",
      "FP        2287 non-null float64\n",
      "dtypes: float64(6), int64(22), object(1)\n",
      "memory usage: 518.2+ KB\n"
     ]
    }
   ],
   "source": [
    "df.info()"
   ]
  },
  {
   "cell_type": "code",
   "execution_count": 11,
   "metadata": {},
   "outputs": [],
   "source": [
    "# Drop columns with null values and low correlation with the target variable\n",
    "df = df.drop(['CS', 'HBP'], axis=1)"
   ]
  },
  {
   "cell_type": "code",
   "execution_count": 12,
   "metadata": {},
   "outputs": [],
   "source": [
    "# Fill missing values with the median for the remaining rows with null values\n",
    "df['SO'] = df['SO'].fillna(df['SO'].median())\n",
    "df['DP'] = df['DP'].fillna(df['DP'].median())"
   ]
  },
  {
   "cell_type": "code",
   "execution_count": 13,
   "metadata": {},
   "outputs": [
    {
     "name": "stdout",
     "output_type": "stream",
     "text": [
      "<class 'pandas.core.frame.DataFrame'>\n",
      "RangeIndex: 2287 entries, 0 to 2286\n",
      "Data columns (total 27 columns):\n",
      "yearID    2287 non-null int64\n",
      "teamID    2287 non-null object\n",
      "G         2287 non-null int64\n",
      "W         2287 non-null int64\n",
      "R         2287 non-null int64\n",
      "AB        2287 non-null int64\n",
      "H         2287 non-null int64\n",
      "2B        2287 non-null int64\n",
      "3B        2287 non-null int64\n",
      "HR        2287 non-null int64\n",
      "BB        2287 non-null int64\n",
      "SO        2287 non-null float64\n",
      "SB        2287 non-null int64\n",
      "RA        2287 non-null int64\n",
      "ER        2287 non-null int64\n",
      "ERA       2287 non-null float64\n",
      "CG        2287 non-null int64\n",
      "SHO       2287 non-null int64\n",
      "SV        2287 non-null int64\n",
      "IPouts    2287 non-null int64\n",
      "HA        2287 non-null int64\n",
      "HRA       2287 non-null int64\n",
      "BBA       2287 non-null int64\n",
      "SOA       2287 non-null int64\n",
      "E         2287 non-null int64\n",
      "DP        2287 non-null float64\n",
      "FP        2287 non-null float64\n",
      "dtypes: float64(4), int64(22), object(1)\n",
      "memory usage: 482.5+ KB\n"
     ]
    }
   ],
   "source": [
    "# Check if there are null values\n",
    "df.info()"
   ]
  },
  {
   "cell_type": "code",
   "execution_count": 14,
   "metadata": {},
   "outputs": [
    {
     "data": {
      "image/png": "[encoded data removed]",
      "text/plain": [
       "<matplotlib.figure.Figure at 0x7f0b5615c320>"
      ]
     },
     "metadata": {},
     "output_type": "display_data"
    }
   ],
   "source": [
    "# Plot distribution of victories\n",
    "plt.hist(df['W'])\n",
    "plt.xlabel('Wins')\n",
    "plt.title('Distribution of Wins')\n",
    "plt.show()"
   ]
  },
  {
   "cell_type": "code",
   "execution_count": 15,
   "metadata": {},
   "outputs": [
    {
     "name": "stdout",
     "output_type": "stream",
     "text": [
      "79.2304328815\n"
     ]
    }
   ],
   "source": [
    "# Print the average number of wins\n",
    "print(df['W'].mean())"
   ]
  },
  {
   "cell_type": "code",
   "execution_count": 16,
   "metadata": {},
   "outputs": [],
   "source": [
    "# Categorize victories\n",
    "def assign_win_bins(n_wins):\n",
    "    if n_wins < 50:\n",
    "        return 1\n",
    "    if n_wins >= 50 and n_wins <= 69:\n",
    "        return 2\n",
    "    if n_wins >= 70 and n_wins <= 89:\n",
    "        return 3\n",
    "    if n_wins >= 90 and n_wins <= 109:\n",
    "        return 4\n",
    "    if n_wins >= 110:\n",
    "        return 5"
   ]
  },
  {
   "cell_type": "code",
   "execution_count": 17,
   "metadata": {},
   "outputs": [],
   "source": [
    "# Categorize the class of wins for each victory\n",
    "df['win_bins'] = df['W'].apply(assign_win_bins)"
   ]
  },
  {
   "cell_type": "code",
   "execution_count": 18,
   "metadata": {},
   "outputs": [
    {
     "data": {
      "image/png": "[encoded data removed]",
      "text/plain": [
       "<matplotlib.figure.Figure at 0x7f0b4d817860>"
      ]
     },
     "metadata": {},
     "output_type": "display_data"
    }
   ],
   "source": [
    "# Plot the data classified\n",
    "plt.scatter(df['yearID'], df['W'], c=df['win_bins'])\n",
    "plt.title('Wins Scatter Plot')\n",
    "plt.xlabel('Year')\n",
    "plt.ylabel('Wins')\n",
    "plt.show()"
   ]
  },
  {
   "cell_type": "code",
   "execution_count": 19,
   "metadata": {},
   "outputs": [],
   "source": [
    "# Filter to only get data above 1900\n",
    "df = df[df['yearID'] > 1900]"
   ]
  },
  {
   "cell_type": "code",
   "execution_count": 20,
   "metadata": {},
   "outputs": [],
   "source": [
    "# Prepare a plot for scoring trends. Create dictionaries for games and runs per year\n",
    "runs_per_year = {}\n",
    "games_per_year = {}"
   ]
  },
  {
   "cell_type": "code",
   "execution_count": 21,
   "metadata": {},
   "outputs": [],
   "source": [
    "# Populate both dictionaries\n",
    "for i, row in df.iterrows():\n",
    "    year = row['yearID']\n",
    "    runs = row['R']\n",
    "    games = row['G']\n",
    "    if year in runs_per_year:\n",
    "        runs_per_year[year] = runs_per_year[year] + runs\n",
    "        games_per_year[year] = games_per_year[year] + games\n",
    "    else:\n",
    "        runs_per_year[year] = year\n",
    "        games_per_year[year] = games"
   ]
  },
  {
   "cell_type": "code",
   "execution_count": 22,
   "metadata": {},
   "outputs": [
    {
     "name": "stdout",
     "output_type": "stream",
     "text": [
      "{1961: 14159, 1962: 15705, 1963: 14146, 1964: 14544, 1965: 14384, 1966: 14262, 1967: 13610, 1968: 12579, 1969: 17291, 1970: 18219, 1971: 16533, 1972: 15224, 1973: 17720, 1974: 17402, 1975: 17642, 1976: 16918, 1977: 20105, 1978: 18538, 1979: 19826, 1980: 19335, 1982: 19278, 1983: 19431, 1984: 19209, 1985: 19469, 1986: 19745, 1987: 21100, 1988: 18654, 1989: 18725, 1990: 19219, 1991: 19465, 1992: 18754, 1993: 22173, 1996: 24065, 1997: 22772, 1998: 24508, 1999: 25979, 2000: 26107, 2001: 24509, 2002: 23559, 2003: 24245, 2004: 24544, 2005: 23569, 2006: 24839, 2007: 24507, 2008: 23828, 2009: 23545, 2010: 22637, 2011: 22152, 2012: 22262, 2013: 21535, 2014: 21002, 2015: 22001, 2016: 23043, 1904: 10720, 1905: 11077, 1906: 9820, 1907: 9591, 1908: 9794, 1909: 10279, 1910: 10995, 1911: 12376, 1912: 12373, 1913: 11236, 1914: 10665, 1915: 10777, 1916: 10263, 1917: 10329, 1920: 12159, 1921: 13135, 1922: 13385, 1923: 13161, 1924: 13126, 1925: 13813, 1926: 12745, 1927: 13021, 1928: 12942, 1929: 14019, 1930: 14932, 1931: 13290, 1932: 13399, 1933: 11669, 1934: 12576, 1935: 11858, 1936: 14151, 1937: 13428, 1938: 12637, 1939: 13243, 1940: 12885, 1941: 12517, 1942: 10884, 1943: 11172, 1944: 11704, 1945: 10953, 1946: 11269, 1947: 12073, 1948: 12537, 1949: 12669, 1950: 13178, 1951: 12496, 1952: 11732, 1953: 12641, 1954: 12111, 1955: 12281, 1956: 12278, 1957: 11821, 1958: 11861, 1959: 12088, 1960: 11900}\n",
      "{1961: 2860, 1962: 3242, 1963: 3238, 1964: 3252, 1965: 3246, 1966: 3230, 1967: 3240, 1968: 3250, 1969: 3892, 1970: 3888, 1971: 3876, 1972: 3718, 1973: 3886, 1974: 3890, 1975: 3868, 1976: 3878, 1977: 4206, 1978: 4204, 1979: 4198, 1980: 4210, 1982: 4214, 1983: 4218, 1984: 4210, 1985: 4206, 1986: 4206, 1987: 4210, 1988: 4200, 1989: 4212, 1990: 4210, 1991: 4208, 1992: 4212, 1993: 4538, 1996: 4534, 1997: 4532, 1998: 4864, 1999: 4856, 2000: 4858, 2001: 4858, 2002: 4852, 2003: 4860, 2004: 4856, 2005: 4862, 2006: 4858, 2007: 4862, 2008: 4856, 2009: 4860, 2010: 4860, 2011: 4858, 2012: 4860, 2013: 4862, 2014: 4860, 2015: 4858, 2016: 4856, 1904: 2498, 1905: 2474, 1906: 2307, 1907: 2317, 1908: 2488, 1909: 2482, 1910: 2498, 1911: 2474, 1912: 2464, 1913: 2468, 1914: 2512, 1915: 2490, 1916: 2494, 1917: 2494, 1920: 2468, 1921: 2458, 1922: 2476, 1923: 2466, 1924: 2462, 1925: 2456, 1926: 2468, 1927: 2472, 1928: 2462, 1929: 2458, 1930: 2468, 1931: 2472, 1932: 2466, 1933: 2303, 1934: 2297, 1935: 2158, 1936: 2476, 1937: 2478, 1938: 2297, 1939: 2462, 1940: 2472, 1941: 2488, 1942: 2300, 1943: 2476, 1944: 2484, 1945: 2313, 1946: 2484, 1947: 2486, 1948: 2474, 1949: 2480, 1950: 2476, 1951: 2478, 1952: 2478, 1953: 2480, 1954: 2474, 1955: 2468, 1956: 2478, 1957: 2470, 1958: 2470, 1959: 2476, 1960: 2472}\n"
     ]
    }
   ],
   "source": [
    "# Print the dictionaries\n",
    "print(runs_per_year)\n",
    "print(games_per_year)"
   ]
  },
  {
   "cell_type": "code",
   "execution_count": 23,
   "metadata": {},
   "outputs": [],
   "source": [
    "# Create the dictionary to be plotted\n",
    "mlb_runs_per_game = {}"
   ]
  },
  {
   "cell_type": "code",
   "execution_count": 24,
   "metadata": {},
   "outputs": [],
   "source": [
    "# Populate the dictionary\n",
    "for k, v in games_per_year.items():\n",
    "    year = k\n",
    "    games = v\n",
    "    runs = runs_per_year[year]\n",
    "    mlb_runs_per_game[year] = runs / games"
   ]
  },
  {
   "cell_type": "code",
   "execution_count": 25,
   "metadata": {},
   "outputs": [
    {
     "name": "stdout",
     "output_type": "stream",
     "text": [
      "{1961: 4.9506993006993, 1962: 4.844231955582973, 1963: 4.368746139592341, 1964: 4.472324723247232, 1965: 4.431300061614294, 1966: 4.41547987616099, 1967: 4.200617283950617, 1968: 3.8704615384615386, 1969: 4.442702980472765, 1970: 4.6859567901234565, 1971: 4.265479876160991, 1972: 4.094674556213017, 1973: 4.559958826556871, 1974: 4.4735218508997425, 1975: 4.561013443640124, 1976: 4.3625580195977305, 1977: 4.780076081787922, 1978: 4.409609895337773, 1979: 4.722725107193902, 1980: 4.592636579572447, 1982: 4.574750830564784, 1983: 4.6066856330014225, 1984: 4.56270783847981, 1985: 4.628863528292915, 1986: 4.694484070375654, 1987: 5.01187648456057, 1988: 4.441428571428571, 1989: 4.445631528964863, 1990: 4.565083135391924, 1991: 4.625712927756654, 1992: 4.452516619183286, 1993: 4.886073159982371, 1996: 5.307675341861491, 1997: 5.024713150926743, 1998: 5.0386513157894735, 1999: 5.349876441515651, 2000: 5.374022231370935, 2001: 5.045080279950597, 2002: 4.855523495465787, 2003: 4.988683127572016, 2004: 5.0543657331136735, 2005: 4.847593582887701, 2006: 5.11300946891725, 2007: 5.040518305224188, 2008: 4.906919275123559, 2009: 4.844650205761317, 2010: 4.657818930041152, 2011: 4.559901193906958, 2012: 4.580658436213992, 2013: 4.429247223364871, 2014: 4.321399176954732, 2015: 4.528818443804035, 2016: 4.745263591433279, 1904: 4.291433146517214, 1905: 4.477364591754244, 1906: 4.256610316428262, 1907: 4.139404402244281, 1908: 3.9364951768488745, 1909: 4.141418211120064, 1910: 4.4015212169735785, 1911: 5.002425222312045, 1912: 5.021509740259741, 1913: 4.552674230145867, 1914: 4.24562101910828, 1915: 4.328112449799197, 1916: 4.115076182838813, 1917: 4.141539695268645, 1920: 4.926661264181523, 1921: 5.343775427176566, 1922: 5.405896607431341, 1923: 5.3369829683698295, 1924: 5.331437855402112, 1925: 5.624185667752443, 1926: 5.164100486223663, 1927: 5.267394822006472, 1928: 5.256701868399675, 1929: 5.703417412530513, 1930: 6.050243111831443, 1931: 5.37621359223301, 1932: 5.433495539334955, 1933: 5.066869300911854, 1934: 5.474967348715716, 1935: 5.494902687673772, 1936: 5.715266558966074, 1937: 5.418886198547216, 1938: 5.501523726599913, 1939: 5.378960194963445, 1940: 5.212378640776699, 1941: 5.030948553054662, 1942: 4.732173913043479, 1943: 4.512116316639742, 1944: 4.7117552334943635, 1945: 4.735408560311284, 1946: 4.536634460547504, 1947: 4.856395816572808, 1948: 5.067502021018593, 1949: 5.108467741935484, 1950: 5.3222940226171245, 1951: 5.042776432606941, 1952: 4.734463276836158, 1953: 5.097177419354839, 1954: 4.895311236863379, 1955: 4.976094003241491, 1956: 4.954802259887006, 1957: 4.78582995951417, 1958: 4.802024291497975, 1959: 4.882067851373183, 1960: 4.813915857605178}\n"
     ]
    }
   ],
   "source": [
    "# Print the resulting dictionary\n",
    "print(mlb_runs_per_game)"
   ]
  },
  {
   "cell_type": "code",
   "execution_count": 26,
   "metadata": {},
   "outputs": [],
   "source": [
    "# Create a list from the dictionary\n",
    "lists = sorted(mlb_runs_per_game.items())\n",
    "x, y = zip(*lists)"
   ]
  },
  {
   "cell_type": "code",
   "execution_count": 27,
   "metadata": {},
   "outputs": [
    {
     "data": {
      "image/png": "[encoded data removed]",
      "text/plain": [
       "<matplotlib.figure.Figure at 0x7f0b4d76bf98>"
      ]
     },
     "metadata": {},
     "output_type": "display_data"
    }
   ],
   "source": [
    "# Plot a line graph\n",
    "plt.plot(x, y)\n",
    "plt.title('MLB Yearly Runs per Game')\n",
    "plt.xlabel('Year')\n",
    "plt.ylabel('MLB Runs per Game')\n",
    "plt.show()"
   ]
  },
  {
   "cell_type": "code",
   "execution_count": 28,
   "metadata": {},
   "outputs": [],
   "source": [
    "# Classify years to find relationships between different eras\n",
    "def assign_label(year):\n",
    "    if year < 1920:\n",
    "        return 1\n",
    "    elif year >= 1920 and year <= 1941:\n",
    "        return 2\n",
    "    elif year >= 1942 and year <= 1945:\n",
    "        return 3\n",
    "    elif year >= 1946 and year <= 1962:\n",
    "        return 4\n",
    "    elif year >= 1963 and year <= 1976:\n",
    "        return 5\n",
    "    elif year >= 1977 and year <= 1992:\n",
    "        return 6\n",
    "    elif year >= 1993 and year <= 2009:\n",
    "        return 7\n",
    "    elif year >= 2010:\n",
    "        return 8"
   ]
  },
  {
   "cell_type": "code",
   "execution_count": 29,
   "metadata": {},
   "outputs": [],
   "source": [
    "# Create new column\n",
    "df['year_label'] = df['yearID'].apply(assign_label)"
   ]
  },
  {
   "cell_type": "code",
   "execution_count": 30,
   "metadata": {},
   "outputs": [],
   "source": [
    "# Get dummy variables for classification\n",
    "dummy_df = pd.get_dummies(df['year_label'], prefix='era')"
   ]
  },
  {
   "cell_type": "code",
   "execution_count": 31,
   "metadata": {},
   "outputs": [],
   "source": [
    "# Concatenate the dummy variables with the dataframe\n",
    "df = pd.concat([df, dummy_df], axis=1)"
   ]
  },
  {
   "cell_type": "code",
   "execution_count": 32,
   "metadata": {},
   "outputs": [
    {
     "data": {
      "text/html": [
       "<div>\n",
       "<style scoped>\n",
       "    .dataframe tbody tr th:only-of-type {\n",
       "        vertical-align: middle;\n",
       "    }\n",
       "\n",
       "    .dataframe tbody tr th {\n",
       "        vertical-align: top;\n",
       "    }\n",
       "\n",
       "    .dataframe thead th {\n",
       "        text-align: right;\n",
       "    }\n",
       "</style>\n",
       "<table border=\"1\" class=\"dataframe\">\n",
       "  <thead>\n",
       "    <tr style=\"text-align: right;\">\n",
       "      <th></th>\n",
       "      <th>yearID</th>\n",
       "      <th>teamID</th>\n",
       "      <th>G</th>\n",
       "      <th>W</th>\n",
       "      <th>R</th>\n",
       "      <th>AB</th>\n",
       "      <th>H</th>\n",
       "      <th>2B</th>\n",
       "      <th>3B</th>\n",
       "      <th>HR</th>\n",
       "      <th>...</th>\n",
       "      <th>win_bins</th>\n",
       "      <th>year_label</th>\n",
       "      <th>era_1</th>\n",
       "      <th>era_2</th>\n",
       "      <th>era_3</th>\n",
       "      <th>era_4</th>\n",
       "      <th>era_5</th>\n",
       "      <th>era_6</th>\n",
       "      <th>era_7</th>\n",
       "      <th>era_8</th>\n",
       "    </tr>\n",
       "  </thead>\n",
       "  <tbody>\n",
       "    <tr>\n",
       "      <th>0</th>\n",
       "      <td>1961</td>\n",
       "      <td>LAA</td>\n",
       "      <td>162</td>\n",
       "      <td>70</td>\n",
       "      <td>744</td>\n",
       "      <td>5424</td>\n",
       "      <td>1331</td>\n",
       "      <td>218</td>\n",
       "      <td>22</td>\n",
       "      <td>189</td>\n",
       "      <td>...</td>\n",
       "      <td>3</td>\n",
       "      <td>4</td>\n",
       "      <td>0</td>\n",
       "      <td>0</td>\n",
       "      <td>0</td>\n",
       "      <td>1</td>\n",
       "      <td>0</td>\n",
       "      <td>0</td>\n",
       "      <td>0</td>\n",
       "      <td>0</td>\n",
       "    </tr>\n",
       "    <tr>\n",
       "      <th>1</th>\n",
       "      <td>1962</td>\n",
       "      <td>LAA</td>\n",
       "      <td>162</td>\n",
       "      <td>86</td>\n",
       "      <td>718</td>\n",
       "      <td>5499</td>\n",
       "      <td>1377</td>\n",
       "      <td>232</td>\n",
       "      <td>35</td>\n",
       "      <td>137</td>\n",
       "      <td>...</td>\n",
       "      <td>3</td>\n",
       "      <td>4</td>\n",
       "      <td>0</td>\n",
       "      <td>0</td>\n",
       "      <td>0</td>\n",
       "      <td>1</td>\n",
       "      <td>0</td>\n",
       "      <td>0</td>\n",
       "      <td>0</td>\n",
       "      <td>0</td>\n",
       "    </tr>\n",
       "    <tr>\n",
       "      <th>2</th>\n",
       "      <td>1963</td>\n",
       "      <td>LAA</td>\n",
       "      <td>161</td>\n",
       "      <td>70</td>\n",
       "      <td>597</td>\n",
       "      <td>5506</td>\n",
       "      <td>1378</td>\n",
       "      <td>208</td>\n",
       "      <td>38</td>\n",
       "      <td>95</td>\n",
       "      <td>...</td>\n",
       "      <td>3</td>\n",
       "      <td>5</td>\n",
       "      <td>0</td>\n",
       "      <td>0</td>\n",
       "      <td>0</td>\n",
       "      <td>0</td>\n",
       "      <td>1</td>\n",
       "      <td>0</td>\n",
       "      <td>0</td>\n",
       "      <td>0</td>\n",
       "    </tr>\n",
       "    <tr>\n",
       "      <th>3</th>\n",
       "      <td>1964</td>\n",
       "      <td>LAA</td>\n",
       "      <td>162</td>\n",
       "      <td>82</td>\n",
       "      <td>544</td>\n",
       "      <td>5362</td>\n",
       "      <td>1297</td>\n",
       "      <td>186</td>\n",
       "      <td>27</td>\n",
       "      <td>102</td>\n",
       "      <td>...</td>\n",
       "      <td>3</td>\n",
       "      <td>5</td>\n",
       "      <td>0</td>\n",
       "      <td>0</td>\n",
       "      <td>0</td>\n",
       "      <td>0</td>\n",
       "      <td>1</td>\n",
       "      <td>0</td>\n",
       "      <td>0</td>\n",
       "      <td>0</td>\n",
       "    </tr>\n",
       "    <tr>\n",
       "      <th>4</th>\n",
       "      <td>1965</td>\n",
       "      <td>CAL</td>\n",
       "      <td>162</td>\n",
       "      <td>75</td>\n",
       "      <td>527</td>\n",
       "      <td>5354</td>\n",
       "      <td>1279</td>\n",
       "      <td>200</td>\n",
       "      <td>36</td>\n",
       "      <td>92</td>\n",
       "      <td>...</td>\n",
       "      <td>3</td>\n",
       "      <td>5</td>\n",
       "      <td>0</td>\n",
       "      <td>0</td>\n",
       "      <td>0</td>\n",
       "      <td>0</td>\n",
       "      <td>1</td>\n",
       "      <td>0</td>\n",
       "      <td>0</td>\n",
       "      <td>0</td>\n",
       "    </tr>\n",
       "  </tbody>\n",
       "</table>\n",
       "<p>5 rows × 37 columns</p>\n",
       "</div>"
      ],
      "text/plain": [
       "   yearID teamID    G   W    R    AB     H   2B  3B   HR  ...    win_bins  \\\n",
       "0    1961    LAA  162  70  744  5424  1331  218  22  189  ...           3   \n",
       "1    1962    LAA  162  86  718  5499  1377  232  35  137  ...           3   \n",
       "2    1963    LAA  161  70  597  5506  1378  208  38   95  ...           3   \n",
       "3    1964    LAA  162  82  544  5362  1297  186  27  102  ...           3   \n",
       "4    1965    CAL  162  75  527  5354  1279  200  36   92  ...           3   \n",
       "\n",
       "   year_label  era_1  era_2  era_3  era_4  era_5  era_6  era_7  era_8  \n",
       "0           4      0      0      0      1      0      0      0      0  \n",
       "1           4      0      0      0      1      0      0      0      0  \n",
       "2           5      0      0      0      0      1      0      0      0  \n",
       "3           5      0      0      0      0      1      0      0      0  \n",
       "4           5      0      0      0      0      1      0      0      0  \n",
       "\n",
       "[5 rows x 37 columns]"
      ]
     },
     "execution_count": 32,
     "metadata": {},
     "output_type": "execute_result"
    }
   ],
   "source": [
    "# Print the result\n",
    "df.head()"
   ]
  },
  {
   "cell_type": "code",
   "execution_count": 33,
   "metadata": {},
   "outputs": [],
   "source": [
    "# Define a function to return the mlb runs per game for a given year\n",
    "def assign_mlb_rpg(year):\n",
    "    return mlb_runs_per_game[year]"
   ]
  },
  {
   "cell_type": "code",
   "execution_count": 34,
   "metadata": {},
   "outputs": [],
   "source": [
    "# Add MLB runs per game into the dataset\n",
    "df['mlb_rpg'] = df['yearID'].apply(assign_mlb_rpg)"
   ]
  },
  {
   "cell_type": "code",
   "execution_count": 35,
   "metadata": {},
   "outputs": [],
   "source": [
    "# Define a function to convert years into decades\n",
    "def assign_decade(year):\n",
    "    if year < 1920:\n",
    "        return 1910\n",
    "    elif year >= 1920 and year <= 1929:\n",
    "        return 1920\n",
    "    elif year >= 1930 and year <= 1939:\n",
    "        return 1930\n",
    "    elif year >= 1940 and year <= 1949:\n",
    "        return 1940\n",
    "    elif year >= 1950 and year <= 1959:\n",
    "        return 1950\n",
    "    elif year >= 1960 and year <= 1969:\n",
    "        return 1960\n",
    "    elif year >= 1970 and year <= 1979:\n",
    "        return 1970\n",
    "    elif year >= 1980 and year <= 1989:\n",
    "        return 1980\n",
    "    elif year >= 1990 and year <= 1999:\n",
    "        return 1990\n",
    "    elif year >= 2000 and year <= 2009:\n",
    "        return 2000\n",
    "    elif year >= 2010:\n",
    "        return 2010"
   ]
  },
  {
   "cell_type": "code",
   "execution_count": 36,
   "metadata": {},
   "outputs": [],
   "source": [
    "# Create a decade column\n",
    "df['decade_label'] = df['yearID'].apply(assign_decade)"
   ]
  },
  {
   "cell_type": "code",
   "execution_count": 37,
   "metadata": {},
   "outputs": [],
   "source": [
    "# Get dummy variables for each decade\n",
    "decade_df = pd.get_dummies(df['decade_label'], prefix='decade')"
   ]
  },
  {
   "cell_type": "code",
   "execution_count": 38,
   "metadata": {},
   "outputs": [],
   "source": [
    "# Concatenate dummy variables in the dataset\n",
    "df = pd.concat([df, decade_df], axis=1)"
   ]
  },
  {
   "cell_type": "code",
   "execution_count": 39,
   "metadata": {},
   "outputs": [],
   "source": [
    "# Drop unnecessary columns\n",
    "df = df.drop(['yearID', 'year_label', 'decade_label'], axis=1)"
   ]
  },
  {
   "cell_type": "code",
   "execution_count": 40,
   "metadata": {},
   "outputs": [],
   "source": [
    "# Create columns with ratios for runs per game and allowed runs per game\n",
    "df['R_per_game'] = df['R'] / df['G']\n",
    "df['RA_per_game'] = df['RA'] / df['G']"
   ]
  },
  {
   "cell_type": "code",
   "execution_count": 41,
   "metadata": {},
   "outputs": [
    {
     "data": {
      "image/png": "[encoded data removed]",
      "text/plain": [
       "<matplotlib.figure.Figure at 0x7f0b4c5f0390>"
      ]
     },
     "metadata": {},
     "output_type": "display_data"
    }
   ],
   "source": [
    "# Create scatter plots for runs per game x wins and allowed runs per game x wins\n",
    "fig = plt.figure(figsize=(12, 6))\n",
    "\n",
    "ax1 = fig.add_subplot(1, 2, 1)\n",
    "ax2 = fig.add_subplot(1, 2, 2)\n",
    "\n",
    "ax1.scatter(df['R_per_game'], df['W'], c='blue')\n",
    "ax1.set_title('Runs per Game vs Wins')\n",
    "ax1.set_xlabel('Runs per Game')\n",
    "ax1.set_ylabel('Wins')\n",
    "\n",
    "ax2.scatter(df['RA_per_game'], df['W'], c='red')\n",
    "ax2.set_title('Runs Allowed per Game vs Wins')\n",
    "ax2.set_xlabel('Runs Allowed per Game')\n",
    "\n",
    "plt.show()"
   ]
  },
  {
   "cell_type": "code",
   "execution_count": 42,
   "metadata": {},
   "outputs": [
    {
     "data": {
      "text/plain": [
       "G              0.178958\n",
       "W              1.000000\n",
       "R              0.551504\n",
       "AB             0.233996\n",
       "H              0.380281\n",
       "2B             0.262323\n",
       "3B             0.016970\n",
       "HR             0.312713\n",
       "BB             0.345348\n",
       "SO             0.072069\n",
       "SB             0.133300\n",
       "RA            -0.518313\n",
       "ER            -0.372580\n",
       "ERA           -0.425833\n",
       "CG            -0.041788\n",
       "SHO            0.426892\n",
       "SV             0.382174\n",
       "IPouts         0.326087\n",
       "HA            -0.384893\n",
       "HRA            0.009880\n",
       "BBA           -0.284782\n",
       "SOA            0.259205\n",
       "E             -0.304725\n",
       "DP             0.015192\n",
       "FP             0.319597\n",
       "win_bins       0.912545\n",
       "era_1         -0.077104\n",
       "era_2         -0.083089\n",
       "era_3         -0.033073\n",
       "era_4         -0.052278\n",
       "era_5          0.042122\n",
       "era_6          0.058439\n",
       "era_7          0.066049\n",
       "era_8          0.043453\n",
       "mlb_rpg       -0.039051\n",
       "decade_1910   -0.077104\n",
       "decade_1920   -0.055176\n",
       "decade_1930   -0.052358\n",
       "decade_1940   -0.050249\n",
       "decade_1950   -0.047499\n",
       "decade_1960    0.028594\n",
       "decade_1970    0.033679\n",
       "decade_1980    0.043516\n",
       "decade_1990    0.044150\n",
       "decade_2000    0.052283\n",
       "decade_2010    0.043453\n",
       "R_per_game     0.528489\n",
       "RA_per_game   -0.550696\n",
       "Name: W, dtype: float64"
      ]
     },
     "execution_count": 42,
     "metadata": {},
     "output_type": "execute_result"
    }
   ],
   "source": [
    "# Check the correlation between features and the target variable\n",
    "df.corr()['W']"
   ]
  },
  {
   "cell_type": "markdown",
   "metadata": {},
   "source": [
    "## Model construction"
   ]
  },
  {
   "cell_type": "code",
   "execution_count": 43,
   "metadata": {},
   "outputs": [],
   "source": [
    "# Create a feature dataframe\n",
    "attributes = ['G','R','AB','H','2B','3B','HR','BB','SO','SB','RA','ER','ERA','CG',\n",
    "'SHO','SV','IPouts','HA','HRA','BBA','SOA','E','DP','FP','era_1','era_2','era_3','era_4','era_5','era_6','era_7','era_8','decade_1910','decade_1920','decade_1930','decade_1940','decade_1950','decade_1960','decade_1970','decade_1980','decade_1990','decade_2000','decade_2010','R_per_game','RA_per_game','mlb_rpg']\n",
    "\n",
    "data_attributes = df[attributes]"
   ]
  },
  {
   "cell_type": "code",
   "execution_count": 44,
   "metadata": {
    "scrolled": true
   },
   "outputs": [],
   "source": [
    "# Determine the number of clusters to be used on the KNN algorithm\n",
    "s_score_dict = {}\n",
    "\n",
    "for i in range(2, 11):\n",
    "    km = KMeans(n_clusters=i, random_state=1)\n",
    "    l = km.fit_predict(data_attributes)\n",
    "    s_s = metrics.silhouette_score(data_attributes, l)\n",
    "    s_score_dict[i] = [s_s]"
   ]
  },
  {
   "cell_type": "code",
   "execution_count": 45,
   "metadata": {},
   "outputs": [
    {
     "name": "stdout",
     "output_type": "stream",
     "text": [
      "{2: [0.39069993422380717], 3: [0.3380758917931877], 4: [0.2534093879643875], 5: [0.23561577259326369], 6: [0.21388694963678856], 7: [0.19570351112649015], 8: [0.1866085764920685], 9: [0.1735454927776956], 10: [0.16986446374320943]}\n"
     ]
    }
   ],
   "source": [
    "# Print the resulting dictionary\n",
    "print(s_score_dict)"
   ]
  },
  {
   "cell_type": "code",
   "execution_count": 46,
   "metadata": {},
   "outputs": [],
   "source": [
    "# Create KNN model with the 6 neighbors\n",
    "kmeans_model = KMeans(n_clusters=6, random_state=1)"
   ]
  },
  {
   "cell_type": "code",
   "execution_count": 47,
   "metadata": {},
   "outputs": [],
   "source": [
    "# Train the model\n",
    "distances = kmeans_model.fit_transform(data_attributes)"
   ]
  },
  {
   "cell_type": "code",
   "execution_count": 48,
   "metadata": {},
   "outputs": [],
   "source": [
    "# Extract the labels to be used as color for plot\n",
    "labels = kmeans_model.labels_"
   ]
  },
  {
   "cell_type": "code",
   "execution_count": 49,
   "metadata": {},
   "outputs": [
    {
     "data": {
      "image/png": "[encoded data removed]",
      "text/plain": [
       "<matplotlib.figure.Figure at 0x7f0b4d82f630>"
      ]
     },
     "metadata": {},
     "output_type": "display_data"
    }
   ],
   "source": [
    "# Plot the euclidean distances\n",
    "plt.scatter(distances[:,0], distances[:,1], c=labels)\n",
    "plt.title('KMeans Clusters')\n",
    "plt.show()"
   ]
  },
  {
   "cell_type": "code",
   "execution_count": 50,
   "metadata": {},
   "outputs": [],
   "source": [
    "# Add KMeans labels to the dataset\n",
    "df['labels'] = labels\n",
    "\n",
    "# Append the label to the list attribute\n",
    "attributes.append('labels')"
   ]
  },
  {
   "cell_type": "code",
   "execution_count": 51,
   "metadata": {},
   "outputs": [
    {
     "data": {
      "text/html": [
       "<div>\n",
       "<style scoped>\n",
       "    .dataframe tbody tr th:only-of-type {\n",
       "        vertical-align: middle;\n",
       "    }\n",
       "\n",
       "    .dataframe tbody tr th {\n",
       "        vertical-align: top;\n",
       "    }\n",
       "\n",
       "    .dataframe thead th {\n",
       "        text-align: right;\n",
       "    }\n",
       "</style>\n",
       "<table border=\"1\" class=\"dataframe\">\n",
       "  <thead>\n",
       "    <tr style=\"text-align: right;\">\n",
       "      <th></th>\n",
       "      <th>teamID</th>\n",
       "      <th>G</th>\n",
       "      <th>W</th>\n",
       "      <th>R</th>\n",
       "      <th>AB</th>\n",
       "      <th>H</th>\n",
       "      <th>2B</th>\n",
       "      <th>3B</th>\n",
       "      <th>HR</th>\n",
       "      <th>BB</th>\n",
       "      <th>...</th>\n",
       "      <th>decade_1950</th>\n",
       "      <th>decade_1960</th>\n",
       "      <th>decade_1970</th>\n",
       "      <th>decade_1980</th>\n",
       "      <th>decade_1990</th>\n",
       "      <th>decade_2000</th>\n",
       "      <th>decade_2010</th>\n",
       "      <th>R_per_game</th>\n",
       "      <th>RA_per_game</th>\n",
       "      <th>labels</th>\n",
       "    </tr>\n",
       "  </thead>\n",
       "  <tbody>\n",
       "    <tr>\n",
       "      <th>0</th>\n",
       "      <td>LAA</td>\n",
       "      <td>162</td>\n",
       "      <td>70</td>\n",
       "      <td>744</td>\n",
       "      <td>5424</td>\n",
       "      <td>1331</td>\n",
       "      <td>218</td>\n",
       "      <td>22</td>\n",
       "      <td>189</td>\n",
       "      <td>681</td>\n",
       "      <td>...</td>\n",
       "      <td>0</td>\n",
       "      <td>1</td>\n",
       "      <td>0</td>\n",
       "      <td>0</td>\n",
       "      <td>0</td>\n",
       "      <td>0</td>\n",
       "      <td>0</td>\n",
       "      <td>4.592593</td>\n",
       "      <td>4.839506</td>\n",
       "      <td>5</td>\n",
       "    </tr>\n",
       "    <tr>\n",
       "      <th>1</th>\n",
       "      <td>LAA</td>\n",
       "      <td>162</td>\n",
       "      <td>86</td>\n",
       "      <td>718</td>\n",
       "      <td>5499</td>\n",
       "      <td>1377</td>\n",
       "      <td>232</td>\n",
       "      <td>35</td>\n",
       "      <td>137</td>\n",
       "      <td>602</td>\n",
       "      <td>...</td>\n",
       "      <td>0</td>\n",
       "      <td>1</td>\n",
       "      <td>0</td>\n",
       "      <td>0</td>\n",
       "      <td>0</td>\n",
       "      <td>0</td>\n",
       "      <td>0</td>\n",
       "      <td>4.432099</td>\n",
       "      <td>4.358025</td>\n",
       "      <td>0</td>\n",
       "    </tr>\n",
       "    <tr>\n",
       "      <th>2</th>\n",
       "      <td>LAA</td>\n",
       "      <td>161</td>\n",
       "      <td>70</td>\n",
       "      <td>597</td>\n",
       "      <td>5506</td>\n",
       "      <td>1378</td>\n",
       "      <td>208</td>\n",
       "      <td>38</td>\n",
       "      <td>95</td>\n",
       "      <td>448</td>\n",
       "      <td>...</td>\n",
       "      <td>0</td>\n",
       "      <td>1</td>\n",
       "      <td>0</td>\n",
       "      <td>0</td>\n",
       "      <td>0</td>\n",
       "      <td>0</td>\n",
       "      <td>0</td>\n",
       "      <td>3.708075</td>\n",
       "      <td>4.099379</td>\n",
       "      <td>0</td>\n",
       "    </tr>\n",
       "    <tr>\n",
       "      <th>3</th>\n",
       "      <td>LAA</td>\n",
       "      <td>162</td>\n",
       "      <td>82</td>\n",
       "      <td>544</td>\n",
       "      <td>5362</td>\n",
       "      <td>1297</td>\n",
       "      <td>186</td>\n",
       "      <td>27</td>\n",
       "      <td>102</td>\n",
       "      <td>472</td>\n",
       "      <td>...</td>\n",
       "      <td>0</td>\n",
       "      <td>1</td>\n",
       "      <td>0</td>\n",
       "      <td>0</td>\n",
       "      <td>0</td>\n",
       "      <td>0</td>\n",
       "      <td>0</td>\n",
       "      <td>3.358025</td>\n",
       "      <td>3.401235</td>\n",
       "      <td>0</td>\n",
       "    </tr>\n",
       "    <tr>\n",
       "      <th>4</th>\n",
       "      <td>CAL</td>\n",
       "      <td>162</td>\n",
       "      <td>75</td>\n",
       "      <td>527</td>\n",
       "      <td>5354</td>\n",
       "      <td>1279</td>\n",
       "      <td>200</td>\n",
       "      <td>36</td>\n",
       "      <td>92</td>\n",
       "      <td>443</td>\n",
       "      <td>...</td>\n",
       "      <td>0</td>\n",
       "      <td>1</td>\n",
       "      <td>0</td>\n",
       "      <td>0</td>\n",
       "      <td>0</td>\n",
       "      <td>0</td>\n",
       "      <td>0</td>\n",
       "      <td>3.253086</td>\n",
       "      <td>3.512346</td>\n",
       "      <td>0</td>\n",
       "    </tr>\n",
       "  </tbody>\n",
       "</table>\n",
       "<p>5 rows × 50 columns</p>\n",
       "</div>"
      ],
      "text/plain": [
       "  teamID    G   W    R    AB     H   2B  3B   HR   BB   ...    decade_1950  \\\n",
       "0    LAA  162  70  744  5424  1331  218  22  189  681   ...              0   \n",
       "1    LAA  162  86  718  5499  1377  232  35  137  602   ...              0   \n",
       "2    LAA  161  70  597  5506  1378  208  38   95  448   ...              0   \n",
       "3    LAA  162  82  544  5362  1297  186  27  102  472   ...              0   \n",
       "4    CAL  162  75  527  5354  1279  200  36   92  443   ...              0   \n",
       "\n",
       "   decade_1960  decade_1970  decade_1980  decade_1990  decade_2000  \\\n",
       "0            1            0            0            0            0   \n",
       "1            1            0            0            0            0   \n",
       "2            1            0            0            0            0   \n",
       "3            1            0            0            0            0   \n",
       "4            1            0            0            0            0   \n",
       "\n",
       "   decade_2010  R_per_game  RA_per_game  labels  \n",
       "0            0    4.592593     4.839506       5  \n",
       "1            0    4.432099     4.358025       0  \n",
       "2            0    3.708075     4.099379       0  \n",
       "3            0    3.358025     3.401235       0  \n",
       "4            0    3.253086     3.512346       0  \n",
       "\n",
       "[5 rows x 50 columns]"
      ]
     },
     "execution_count": 51,
     "metadata": {},
     "output_type": "execute_result"
    }
   ],
   "source": [
    "# Check the new added column\n",
    "df.head()"
   ]
  },
  {
   "cell_type": "code",
   "execution_count": 52,
   "metadata": {},
   "outputs": [],
   "source": [
    "# Prepare a list of columns to be used on train and test sets\n",
    "numeric_cols = ['G','R','AB','H','2B','3B','HR','BB','SO','SB','RA','ER','ERA','CG','SHO','SV','IPouts','HA','HRA','BBA','SOA','E','DP','FP','era_1','era_2','era_3','era_4','era_5','era_6','era_7','era_8','decade_1910','decade_1920','decade_1930','decade_1940','decade_1950','decade_1960','decade_1970','decade_1980','decade_1990','decade_2000','decade_2010','R_per_game','RA_per_game','mlb_rpg','labels','W']"
   ]
  },
  {
   "cell_type": "code",
   "execution_count": 53,
   "metadata": {},
   "outputs": [],
   "source": [
    "# Build the dataframe\n",
    "data = df[numeric_cols]"
   ]
  },
  {
   "cell_type": "code",
   "execution_count": 54,
   "metadata": {},
   "outputs": [
    {
     "data": {
      "text/html": [
       "<div>\n",
       "<style scoped>\n",
       "    .dataframe tbody tr th:only-of-type {\n",
       "        vertical-align: middle;\n",
       "    }\n",
       "\n",
       "    .dataframe tbody tr th {\n",
       "        vertical-align: top;\n",
       "    }\n",
       "\n",
       "    .dataframe thead th {\n",
       "        text-align: right;\n",
       "    }\n",
       "</style>\n",
       "<table border=\"1\" class=\"dataframe\">\n",
       "  <thead>\n",
       "    <tr style=\"text-align: right;\">\n",
       "      <th></th>\n",
       "      <th>G</th>\n",
       "      <th>R</th>\n",
       "      <th>AB</th>\n",
       "      <th>H</th>\n",
       "      <th>2B</th>\n",
       "      <th>3B</th>\n",
       "      <th>HR</th>\n",
       "      <th>BB</th>\n",
       "      <th>SO</th>\n",
       "      <th>SB</th>\n",
       "      <th>...</th>\n",
       "      <th>decade_1970</th>\n",
       "      <th>decade_1980</th>\n",
       "      <th>decade_1990</th>\n",
       "      <th>decade_2000</th>\n",
       "      <th>decade_2010</th>\n",
       "      <th>R_per_game</th>\n",
       "      <th>RA_per_game</th>\n",
       "      <th>mlb_rpg</th>\n",
       "      <th>labels</th>\n",
       "      <th>W</th>\n",
       "    </tr>\n",
       "  </thead>\n",
       "  <tbody>\n",
       "    <tr>\n",
       "      <th>0</th>\n",
       "      <td>162</td>\n",
       "      <td>744</td>\n",
       "      <td>5424</td>\n",
       "      <td>1331</td>\n",
       "      <td>218</td>\n",
       "      <td>22</td>\n",
       "      <td>189</td>\n",
       "      <td>681</td>\n",
       "      <td>1068.0</td>\n",
       "      <td>37</td>\n",
       "      <td>...</td>\n",
       "      <td>0</td>\n",
       "      <td>0</td>\n",
       "      <td>0</td>\n",
       "      <td>0</td>\n",
       "      <td>0</td>\n",
       "      <td>4.592593</td>\n",
       "      <td>4.839506</td>\n",
       "      <td>4.950699</td>\n",
       "      <td>5</td>\n",
       "      <td>70</td>\n",
       "    </tr>\n",
       "    <tr>\n",
       "      <th>1</th>\n",
       "      <td>162</td>\n",
       "      <td>718</td>\n",
       "      <td>5499</td>\n",
       "      <td>1377</td>\n",
       "      <td>232</td>\n",
       "      <td>35</td>\n",
       "      <td>137</td>\n",
       "      <td>602</td>\n",
       "      <td>917.0</td>\n",
       "      <td>46</td>\n",
       "      <td>...</td>\n",
       "      <td>0</td>\n",
       "      <td>0</td>\n",
       "      <td>0</td>\n",
       "      <td>0</td>\n",
       "      <td>0</td>\n",
       "      <td>4.432099</td>\n",
       "      <td>4.358025</td>\n",
       "      <td>4.844232</td>\n",
       "      <td>0</td>\n",
       "      <td>86</td>\n",
       "    </tr>\n",
       "    <tr>\n",
       "      <th>2</th>\n",
       "      <td>161</td>\n",
       "      <td>597</td>\n",
       "      <td>5506</td>\n",
       "      <td>1378</td>\n",
       "      <td>208</td>\n",
       "      <td>38</td>\n",
       "      <td>95</td>\n",
       "      <td>448</td>\n",
       "      <td>916.0</td>\n",
       "      <td>43</td>\n",
       "      <td>...</td>\n",
       "      <td>0</td>\n",
       "      <td>0</td>\n",
       "      <td>0</td>\n",
       "      <td>0</td>\n",
       "      <td>0</td>\n",
       "      <td>3.708075</td>\n",
       "      <td>4.099379</td>\n",
       "      <td>4.368746</td>\n",
       "      <td>0</td>\n",
       "      <td>70</td>\n",
       "    </tr>\n",
       "    <tr>\n",
       "      <th>3</th>\n",
       "      <td>162</td>\n",
       "      <td>544</td>\n",
       "      <td>5362</td>\n",
       "      <td>1297</td>\n",
       "      <td>186</td>\n",
       "      <td>27</td>\n",
       "      <td>102</td>\n",
       "      <td>472</td>\n",
       "      <td>920.0</td>\n",
       "      <td>49</td>\n",
       "      <td>...</td>\n",
       "      <td>0</td>\n",
       "      <td>0</td>\n",
       "      <td>0</td>\n",
       "      <td>0</td>\n",
       "      <td>0</td>\n",
       "      <td>3.358025</td>\n",
       "      <td>3.401235</td>\n",
       "      <td>4.472325</td>\n",
       "      <td>0</td>\n",
       "      <td>82</td>\n",
       "    </tr>\n",
       "    <tr>\n",
       "      <th>4</th>\n",
       "      <td>162</td>\n",
       "      <td>527</td>\n",
       "      <td>5354</td>\n",
       "      <td>1279</td>\n",
       "      <td>200</td>\n",
       "      <td>36</td>\n",
       "      <td>92</td>\n",
       "      <td>443</td>\n",
       "      <td>973.0</td>\n",
       "      <td>107</td>\n",
       "      <td>...</td>\n",
       "      <td>0</td>\n",
       "      <td>0</td>\n",
       "      <td>0</td>\n",
       "      <td>0</td>\n",
       "      <td>0</td>\n",
       "      <td>3.253086</td>\n",
       "      <td>3.512346</td>\n",
       "      <td>4.431300</td>\n",
       "      <td>0</td>\n",
       "      <td>75</td>\n",
       "    </tr>\n",
       "  </tbody>\n",
       "</table>\n",
       "<p>5 rows × 48 columns</p>\n",
       "</div>"
      ],
      "text/plain": [
       "     G    R    AB     H   2B  3B   HR   BB      SO   SB ...  decade_1970  \\\n",
       "0  162  744  5424  1331  218  22  189  681  1068.0   37 ...            0   \n",
       "1  162  718  5499  1377  232  35  137  602   917.0   46 ...            0   \n",
       "2  161  597  5506  1378  208  38   95  448   916.0   43 ...            0   \n",
       "3  162  544  5362  1297  186  27  102  472   920.0   49 ...            0   \n",
       "4  162  527  5354  1279  200  36   92  443   973.0  107 ...            0   \n",
       "\n",
       "   decade_1980  decade_1990  decade_2000  decade_2010  R_per_game  \\\n",
       "0            0            0            0            0    4.592593   \n",
       "1            0            0            0            0    4.432099   \n",
       "2            0            0            0            0    3.708075   \n",
       "3            0            0            0            0    3.358025   \n",
       "4            0            0            0            0    3.253086   \n",
       "\n",
       "   RA_per_game   mlb_rpg  labels   W  \n",
       "0     4.839506  4.950699       5  70  \n",
       "1     4.358025  4.844232       0  86  \n",
       "2     4.099379  4.368746       0  70  \n",
       "3     3.401235  4.472325       0  82  \n",
       "4     3.512346  4.431300       0  75  \n",
       "\n",
       "[5 rows x 48 columns]"
      ]
     },
     "execution_count": 54,
     "metadata": {},
     "output_type": "execute_result"
    }
   ],
   "source": [
    "# Print its contents\n",
    "data.head()"
   ]
  },
  {
   "cell_type": "code",
   "execution_count": 55,
   "metadata": {},
   "outputs": [],
   "source": [
    "# Split the data into training and test sets\n",
    "train = data.sample(frac=0.75, random_state=1)\n",
    "test = data.loc[~data.index.isin(train.index)]"
   ]
  },
  {
   "cell_type": "code",
   "execution_count": 56,
   "metadata": {},
   "outputs": [],
   "source": [
    "# Create target and feature variables with the train and test sets\n",
    "X_train = train[attributes]\n",
    "X_test = test[attributes]\n",
    "y_train = train['W']\n",
    "y_test = test['W']"
   ]
  },
  {
   "cell_type": "code",
   "execution_count": 57,
   "metadata": {},
   "outputs": [],
   "source": [
    "# Create a linear regression model\n",
    "lr = LinearRegression(normalize=True)"
   ]
  },
  {
   "cell_type": "code",
   "execution_count": 58,
   "metadata": {},
   "outputs": [
    {
     "data": {
      "text/plain": [
       "LinearRegression(copy_X=True, fit_intercept=True, n_jobs=1, normalize=True)"
      ]
     },
     "execution_count": 58,
     "metadata": {},
     "output_type": "execute_result"
    }
   ],
   "source": [
    "# Fit the data into the model\n",
    "lr.fit(X_train, y_train)"
   ]
  },
  {
   "cell_type": "code",
   "execution_count": 59,
   "metadata": {},
   "outputs": [],
   "source": [
    "# Predict the outcomes on the test data\n",
    "predictions = lr.predict(X_test)"
   ]
  },
  {
   "cell_type": "code",
   "execution_count": 60,
   "metadata": {},
   "outputs": [],
   "source": [
    "# Calculate the mean absolute error\n",
    "mae = metrics.mean_absolute_error(y_test, predictions)"
   ]
  },
  {
   "cell_type": "code",
   "execution_count": 61,
   "metadata": {},
   "outputs": [
    {
     "name": "stdout",
     "output_type": "stream",
     "text": [
      "2.68827061536\n"
     ]
    }
   ],
   "source": [
    "# Print the error\n",
    "print(mae)"
   ]
  },
  {
   "cell_type": "code",
   "execution_count": 62,
   "metadata": {},
   "outputs": [],
   "source": [
    "# Create a Ridge regression model\n",
    "rrm = RidgeCV(alphas=(0.01, 0.1, 1.0, 10.0), normalize=True)"
   ]
  },
  {
   "cell_type": "code",
   "execution_count": 63,
   "metadata": {},
   "outputs": [
    {
     "data": {
      "text/plain": [
       "RidgeCV(alphas=(0.01, 0.1, 1.0, 10.0), cv=None, fit_intercept=True,\n",
       "    gcv_mode=None, normalize=True, scoring=None, store_cv_values=False)"
      ]
     },
     "execution_count": 63,
     "metadata": {},
     "output_type": "execute_result"
    }
   ],
   "source": [
    "# Fit the data into the model\n",
    "rrm.fit(X_train, y_train)"
   ]
  },
  {
   "cell_type": "code",
   "execution_count": 64,
   "metadata": {},
   "outputs": [],
   "source": [
    "# Predict the outcome\n",
    "predictions_rrm = rrm.predict(X_test)"
   ]
  },
  {
   "cell_type": "code",
   "execution_count": 65,
   "metadata": {},
   "outputs": [],
   "source": [
    "# Calculate the mean absolute error\n",
    "mae_rrm = metrics.mean_absolute_error(y_test, predictions_rrm)"
   ]
  },
  {
   "cell_type": "code",
   "execution_count": 66,
   "metadata": {},
   "outputs": [
    {
     "name": "stdout",
     "output_type": "stream",
     "text": [
      "2.67235198529\n"
     ]
    }
   ],
   "source": [
    "# Print the error\n",
    "print(mae_rrm)"
   ]
  },
  {
   "cell_type": "markdown",
   "metadata": {},
   "source": [
    "## Part 2"
   ]
  },
  {
   "cell_type": "markdown",
   "metadata": {},
   "source": [
    "The second part of this tutorial, models will be built to predict which players will go to the Hall of Fame. The dataset used is available here: http://www.seanlahman.com/baseball-archive/statistics/"
   ]
  },
  {
   "cell_type": "markdown",
   "metadata": {},
   "source": [
    "## Imports"
   ]
  },
  {
   "cell_type": "code",
   "execution_count": 69,
   "metadata": {},
   "outputs": [],
   "source": [
    "# Import the databases and columns that will be used in Dataframes\n",
    "\n",
    "# Biographic info\n",
    "master_df = pd.read_csv('data/core/Master.csv',usecols=['playerID','nameFirst','nameLast','bats','throws','debut','finalGame'])\n",
    "\n",
    "# Fielding statistics\n",
    "fielding_df = pd.read_csv('data/core/Fielding.csv',usecols=['playerID','yearID','stint','teamID','lgID','POS','G','GS','InnOuts','PO','A','E','DP'])\n",
    "\n",
    "# Batting statistics\n",
    "batting_df = pd.read_csv('data/core/Batting.csv')\n",
    "\n",
    "# Awards won by baseball players\n",
    "awards_df = pd.read_csv('data/core/AwardsPlayers.csv', usecols=['playerID','awardID','yearID'])\n",
    "\n",
    "# All star appearences\n",
    "allstar_df = pd.read_csv('data/core/AllstarFull.csv', usecols=['playerID','yearID'])\n",
    "\n",
    "# Hall of fame voting data\n",
    "hof_df = pd.read_csv('data/core/HallOfFame.csv',usecols=['playerID','yearid','votedBy','needed_note','inducted','category'])\n",
    "\n",
    "# Positions which a player appeared\n",
    "appearances_df = pd.read_csv('data/core/Appearances.csv')"
   ]
  },
  {
   "cell_type": "markdown",
   "metadata": {},
   "source": [
    "## Data cleaning and pre processing"
   ]
  },
  {
   "cell_type": "code",
   "execution_count": 70,
   "metadata": {},
   "outputs": [
    {
     "data": {
      "text/html": [
       "<div>\n",
       "<style scoped>\n",
       "    .dataframe tbody tr th:only-of-type {\n",
       "        vertical-align: middle;\n",
       "    }\n",
       "\n",
       "    .dataframe tbody tr th {\n",
       "        vertical-align: top;\n",
       "    }\n",
       "\n",
       "    .dataframe thead th {\n",
       "        text-align: right;\n",
       "    }\n",
       "</style>\n",
       "<table border=\"1\" class=\"dataframe\">\n",
       "  <thead>\n",
       "    <tr style=\"text-align: right;\">\n",
       "      <th></th>\n",
       "      <th>playerID</th>\n",
       "      <th>yearID</th>\n",
       "      <th>stint</th>\n",
       "      <th>teamID</th>\n",
       "      <th>lgID</th>\n",
       "      <th>G</th>\n",
       "      <th>AB</th>\n",
       "      <th>R</th>\n",
       "      <th>H</th>\n",
       "      <th>2B</th>\n",
       "      <th>...</th>\n",
       "      <th>RBI</th>\n",
       "      <th>SB</th>\n",
       "      <th>CS</th>\n",
       "      <th>BB</th>\n",
       "      <th>SO</th>\n",
       "      <th>IBB</th>\n",
       "      <th>HBP</th>\n",
       "      <th>SH</th>\n",
       "      <th>SF</th>\n",
       "      <th>GIDP</th>\n",
       "    </tr>\n",
       "  </thead>\n",
       "  <tbody>\n",
       "    <tr>\n",
       "      <th>0</th>\n",
       "      <td>abercda01</td>\n",
       "      <td>1871</td>\n",
       "      <td>1</td>\n",
       "      <td>TRO</td>\n",
       "      <td>NaN</td>\n",
       "      <td>1</td>\n",
       "      <td>4</td>\n",
       "      <td>0</td>\n",
       "      <td>0</td>\n",
       "      <td>0</td>\n",
       "      <td>...</td>\n",
       "      <td>0.0</td>\n",
       "      <td>0.0</td>\n",
       "      <td>0.0</td>\n",
       "      <td>0</td>\n",
       "      <td>0.0</td>\n",
       "      <td>NaN</td>\n",
       "      <td>NaN</td>\n",
       "      <td>NaN</td>\n",
       "      <td>NaN</td>\n",
       "      <td>NaN</td>\n",
       "    </tr>\n",
       "    <tr>\n",
       "      <th>1</th>\n",
       "      <td>addybo01</td>\n",
       "      <td>1871</td>\n",
       "      <td>1</td>\n",
       "      <td>RC1</td>\n",
       "      <td>NaN</td>\n",
       "      <td>25</td>\n",
       "      <td>118</td>\n",
       "      <td>30</td>\n",
       "      <td>32</td>\n",
       "      <td>6</td>\n",
       "      <td>...</td>\n",
       "      <td>13.0</td>\n",
       "      <td>8.0</td>\n",
       "      <td>1.0</td>\n",
       "      <td>4</td>\n",
       "      <td>0.0</td>\n",
       "      <td>NaN</td>\n",
       "      <td>NaN</td>\n",
       "      <td>NaN</td>\n",
       "      <td>NaN</td>\n",
       "      <td>NaN</td>\n",
       "    </tr>\n",
       "    <tr>\n",
       "      <th>2</th>\n",
       "      <td>allisar01</td>\n",
       "      <td>1871</td>\n",
       "      <td>1</td>\n",
       "      <td>CL1</td>\n",
       "      <td>NaN</td>\n",
       "      <td>29</td>\n",
       "      <td>137</td>\n",
       "      <td>28</td>\n",
       "      <td>40</td>\n",
       "      <td>4</td>\n",
       "      <td>...</td>\n",
       "      <td>19.0</td>\n",
       "      <td>3.0</td>\n",
       "      <td>1.0</td>\n",
       "      <td>2</td>\n",
       "      <td>5.0</td>\n",
       "      <td>NaN</td>\n",
       "      <td>NaN</td>\n",
       "      <td>NaN</td>\n",
       "      <td>NaN</td>\n",
       "      <td>NaN</td>\n",
       "    </tr>\n",
       "    <tr>\n",
       "      <th>3</th>\n",
       "      <td>allisdo01</td>\n",
       "      <td>1871</td>\n",
       "      <td>1</td>\n",
       "      <td>WS3</td>\n",
       "      <td>NaN</td>\n",
       "      <td>27</td>\n",
       "      <td>133</td>\n",
       "      <td>28</td>\n",
       "      <td>44</td>\n",
       "      <td>10</td>\n",
       "      <td>...</td>\n",
       "      <td>27.0</td>\n",
       "      <td>1.0</td>\n",
       "      <td>1.0</td>\n",
       "      <td>0</td>\n",
       "      <td>2.0</td>\n",
       "      <td>NaN</td>\n",
       "      <td>NaN</td>\n",
       "      <td>NaN</td>\n",
       "      <td>NaN</td>\n",
       "      <td>NaN</td>\n",
       "    </tr>\n",
       "    <tr>\n",
       "      <th>4</th>\n",
       "      <td>ansonca01</td>\n",
       "      <td>1871</td>\n",
       "      <td>1</td>\n",
       "      <td>RC1</td>\n",
       "      <td>NaN</td>\n",
       "      <td>25</td>\n",
       "      <td>120</td>\n",
       "      <td>29</td>\n",
       "      <td>39</td>\n",
       "      <td>11</td>\n",
       "      <td>...</td>\n",
       "      <td>16.0</td>\n",
       "      <td>6.0</td>\n",
       "      <td>2.0</td>\n",
       "      <td>2</td>\n",
       "      <td>1.0</td>\n",
       "      <td>NaN</td>\n",
       "      <td>NaN</td>\n",
       "      <td>NaN</td>\n",
       "      <td>NaN</td>\n",
       "      <td>NaN</td>\n",
       "    </tr>\n",
       "  </tbody>\n",
       "</table>\n",
       "<p>5 rows × 22 columns</p>\n",
       "</div>"
      ],
      "text/plain": [
       "    playerID  yearID  stint teamID lgID   G   AB   R   H  2B  ...    RBI   SB  \\\n",
       "0  abercda01    1871      1    TRO  NaN   1    4   0   0   0  ...    0.0  0.0   \n",
       "1   addybo01    1871      1    RC1  NaN  25  118  30  32   6  ...   13.0  8.0   \n",
       "2  allisar01    1871      1    CL1  NaN  29  137  28  40   4  ...   19.0  3.0   \n",
       "3  allisdo01    1871      1    WS3  NaN  27  133  28  44  10  ...   27.0  1.0   \n",
       "4  ansonca01    1871      1    RC1  NaN  25  120  29  39  11  ...   16.0  6.0   \n",
       "\n",
       "    CS  BB   SO  IBB  HBP  SH  SF  GIDP  \n",
       "0  0.0   0  0.0  NaN  NaN NaN NaN   NaN  \n",
       "1  1.0   4  0.0  NaN  NaN NaN NaN   NaN  \n",
       "2  1.0   2  5.0  NaN  NaN NaN NaN   NaN  \n",
       "3  1.0   0  2.0  NaN  NaN NaN NaN   NaN  \n",
       "4  2.0   2  1.0  NaN  NaN NaN NaN   NaN  \n",
       "\n",
       "[5 rows x 22 columns]"
      ]
     },
     "execution_count": 70,
     "metadata": {},
     "output_type": "execute_result"
    }
   ],
   "source": [
    "# Check the contents of the batting Dataframe\n",
    "batting_df.head()"
   ]
  },
  {
   "cell_type": "code",
   "execution_count": 71,
   "metadata": {},
   "outputs": [
    {
     "data": {
      "text/plain": [
       "Index(['playerID', 'yearID', 'stint', 'teamID', 'lgID', 'G', 'AB', 'R', 'H',\n",
       "       '2B', '3B', 'HR', 'RBI', 'SB', 'CS', 'BB', 'SO', 'IBB', 'HBP', 'SH',\n",
       "       'SF', 'GIDP'],\n",
       "      dtype='object')"
      ]
     },
     "execution_count": 71,
     "metadata": {},
     "output_type": "execute_result"
    }
   ],
   "source": [
    "# See the columns loaded in the Dataframe\n",
    "batting_df.columns"
   ]
  },
  {
   "cell_type": "code",
   "execution_count": 72,
   "metadata": {},
   "outputs": [
    {
     "data": {
      "text/html": [
       "<div>\n",
       "<style scoped>\n",
       "    .dataframe tbody tr th:only-of-type {\n",
       "        vertical-align: middle;\n",
       "    }\n",
       "\n",
       "    .dataframe tbody tr th {\n",
       "        vertical-align: top;\n",
       "    }\n",
       "\n",
       "    .dataframe thead th {\n",
       "        text-align: right;\n",
       "    }\n",
       "</style>\n",
       "<table border=\"1\" class=\"dataframe\">\n",
       "  <thead>\n",
       "    <tr style=\"text-align: right;\">\n",
       "      <th></th>\n",
       "      <th>yearID</th>\n",
       "      <th>stint</th>\n",
       "      <th>G</th>\n",
       "      <th>AB</th>\n",
       "      <th>R</th>\n",
       "      <th>H</th>\n",
       "      <th>2B</th>\n",
       "      <th>3B</th>\n",
       "      <th>HR</th>\n",
       "      <th>RBI</th>\n",
       "      <th>SB</th>\n",
       "      <th>CS</th>\n",
       "      <th>BB</th>\n",
       "      <th>SO</th>\n",
       "      <th>IBB</th>\n",
       "      <th>HBP</th>\n",
       "      <th>SH</th>\n",
       "      <th>SF</th>\n",
       "      <th>GIDP</th>\n",
       "    </tr>\n",
       "  </thead>\n",
       "  <tbody>\n",
       "    <tr>\n",
       "      <th>count</th>\n",
       "      <td>102816.000000</td>\n",
       "      <td>102816.000000</td>\n",
       "      <td>102816.000000</td>\n",
       "      <td>102816.000000</td>\n",
       "      <td>102816.000000</td>\n",
       "      <td>102816.000000</td>\n",
       "      <td>102816.000000</td>\n",
       "      <td>102816.000000</td>\n",
       "      <td>102816.000000</td>\n",
       "      <td>102392.000000</td>\n",
       "      <td>101516.000000</td>\n",
       "      <td>79360.000000</td>\n",
       "      <td>102816.000000</td>\n",
       "      <td>94978.000000</td>\n",
       "      <td>66251.000000</td>\n",
       "      <td>100006.000000</td>\n",
       "      <td>96478.000000</td>\n",
       "      <td>66782.000000</td>\n",
       "      <td>76706.000000</td>\n",
       "    </tr>\n",
       "    <tr>\n",
       "      <th>mean</th>\n",
       "      <td>1964.262313</td>\n",
       "      <td>1.077838</td>\n",
       "      <td>51.343439</td>\n",
       "      <td>141.905511</td>\n",
       "      <td>18.815544</td>\n",
       "      <td>37.139930</td>\n",
       "      <td>6.289167</td>\n",
       "      <td>1.293252</td>\n",
       "      <td>2.813599</td>\n",
       "      <td>17.003975</td>\n",
       "      <td>2.976821</td>\n",
       "      <td>1.226008</td>\n",
       "      <td>13.067207</td>\n",
       "      <td>20.529712</td>\n",
       "      <td>1.105870</td>\n",
       "      <td>1.056057</td>\n",
       "      <td>2.299540</td>\n",
       "      <td>1.054101</td>\n",
       "      <td>2.981018</td>\n",
       "    </tr>\n",
       "    <tr>\n",
       "      <th>std</th>\n",
       "      <td>38.856297</td>\n",
       "      <td>0.284366</td>\n",
       "      <td>47.121658</td>\n",
       "      <td>184.654492</td>\n",
       "      <td>28.242983</td>\n",
       "      <td>52.603757</td>\n",
       "      <td>9.662468</td>\n",
       "      <td>2.645770</td>\n",
       "      <td>6.304919</td>\n",
       "      <td>26.352011</td>\n",
       "      <td>7.717174</td>\n",
       "      <td>2.747377</td>\n",
       "      <td>20.746460</td>\n",
       "      <td>28.328542</td>\n",
       "      <td>2.780187</td>\n",
       "      <td>2.276251</td>\n",
       "      <td>4.241095</td>\n",
       "      <td>1.961732</td>\n",
       "      <td>4.735153</td>\n",
       "    </tr>\n",
       "    <tr>\n",
       "      <th>min</th>\n",
       "      <td>1871.000000</td>\n",
       "      <td>1.000000</td>\n",
       "      <td>1.000000</td>\n",
       "      <td>0.000000</td>\n",
       "      <td>0.000000</td>\n",
       "      <td>0.000000</td>\n",
       "      <td>0.000000</td>\n",
       "      <td>0.000000</td>\n",
       "      <td>0.000000</td>\n",
       "      <td>0.000000</td>\n",
       "      <td>0.000000</td>\n",
       "      <td>0.000000</td>\n",
       "      <td>0.000000</td>\n",
       "      <td>0.000000</td>\n",
       "      <td>0.000000</td>\n",
       "      <td>0.000000</td>\n",
       "      <td>0.000000</td>\n",
       "      <td>0.000000</td>\n",
       "      <td>0.000000</td>\n",
       "    </tr>\n",
       "    <tr>\n",
       "      <th>25%</th>\n",
       "      <td>1934.000000</td>\n",
       "      <td>1.000000</td>\n",
       "      <td>13.000000</td>\n",
       "      <td>4.000000</td>\n",
       "      <td>0.000000</td>\n",
       "      <td>0.000000</td>\n",
       "      <td>0.000000</td>\n",
       "      <td>0.000000</td>\n",
       "      <td>0.000000</td>\n",
       "      <td>0.000000</td>\n",
       "      <td>0.000000</td>\n",
       "      <td>0.000000</td>\n",
       "      <td>0.000000</td>\n",
       "      <td>1.000000</td>\n",
       "      <td>0.000000</td>\n",
       "      <td>0.000000</td>\n",
       "      <td>0.000000</td>\n",
       "      <td>0.000000</td>\n",
       "      <td>0.000000</td>\n",
       "    </tr>\n",
       "    <tr>\n",
       "      <th>50%</th>\n",
       "      <td>1973.000000</td>\n",
       "      <td>1.000000</td>\n",
       "      <td>34.000000</td>\n",
       "      <td>49.000000</td>\n",
       "      <td>4.000000</td>\n",
       "      <td>9.000000</td>\n",
       "      <td>1.000000</td>\n",
       "      <td>0.000000</td>\n",
       "      <td>0.000000</td>\n",
       "      <td>3.000000</td>\n",
       "      <td>0.000000</td>\n",
       "      <td>0.000000</td>\n",
       "      <td>3.000000</td>\n",
       "      <td>9.000000</td>\n",
       "      <td>0.000000</td>\n",
       "      <td>0.000000</td>\n",
       "      <td>0.000000</td>\n",
       "      <td>0.000000</td>\n",
       "      <td>0.000000</td>\n",
       "    </tr>\n",
       "    <tr>\n",
       "      <th>75%</th>\n",
       "      <td>1998.000000</td>\n",
       "      <td>1.000000</td>\n",
       "      <td>80.000000</td>\n",
       "      <td>231.000000</td>\n",
       "      <td>27.000000</td>\n",
       "      <td>58.000000</td>\n",
       "      <td>9.000000</td>\n",
       "      <td>1.000000</td>\n",
       "      <td>2.000000</td>\n",
       "      <td>24.000000</td>\n",
       "      <td>2.000000</td>\n",
       "      <td>1.000000</td>\n",
       "      <td>18.000000</td>\n",
       "      <td>29.000000</td>\n",
       "      <td>1.000000</td>\n",
       "      <td>1.000000</td>\n",
       "      <td>3.000000</td>\n",
       "      <td>1.000000</td>\n",
       "      <td>4.000000</td>\n",
       "    </tr>\n",
       "    <tr>\n",
       "      <th>max</th>\n",
       "      <td>2016.000000</td>\n",
       "      <td>5.000000</td>\n",
       "      <td>165.000000</td>\n",
       "      <td>716.000000</td>\n",
       "      <td>192.000000</td>\n",
       "      <td>262.000000</td>\n",
       "      <td>67.000000</td>\n",
       "      <td>36.000000</td>\n",
       "      <td>73.000000</td>\n",
       "      <td>191.000000</td>\n",
       "      <td>138.000000</td>\n",
       "      <td>42.000000</td>\n",
       "      <td>232.000000</td>\n",
       "      <td>223.000000</td>\n",
       "      <td>120.000000</td>\n",
       "      <td>51.000000</td>\n",
       "      <td>67.000000</td>\n",
       "      <td>19.000000</td>\n",
       "      <td>36.000000</td>\n",
       "    </tr>\n",
       "  </tbody>\n",
       "</table>\n",
       "</div>"
      ],
      "text/plain": [
       "              yearID          stint              G             AB  \\\n",
       "count  102816.000000  102816.000000  102816.000000  102816.000000   \n",
       "mean     1964.262313       1.077838      51.343439     141.905511   \n",
       "std        38.856297       0.284366      47.121658     184.654492   \n",
       "min      1871.000000       1.000000       1.000000       0.000000   \n",
       "25%      1934.000000       1.000000      13.000000       4.000000   \n",
       "50%      1973.000000       1.000000      34.000000      49.000000   \n",
       "75%      1998.000000       1.000000      80.000000     231.000000   \n",
       "max      2016.000000       5.000000     165.000000     716.000000   \n",
       "\n",
       "                   R              H             2B             3B  \\\n",
       "count  102816.000000  102816.000000  102816.000000  102816.000000   \n",
       "mean       18.815544      37.139930       6.289167       1.293252   \n",
       "std        28.242983      52.603757       9.662468       2.645770   \n",
       "min         0.000000       0.000000       0.000000       0.000000   \n",
       "25%         0.000000       0.000000       0.000000       0.000000   \n",
       "50%         4.000000       9.000000       1.000000       0.000000   \n",
       "75%        27.000000      58.000000       9.000000       1.000000   \n",
       "max       192.000000     262.000000      67.000000      36.000000   \n",
       "\n",
       "                  HR            RBI             SB            CS  \\\n",
       "count  102816.000000  102392.000000  101516.000000  79360.000000   \n",
       "mean        2.813599      17.003975       2.976821      1.226008   \n",
       "std         6.304919      26.352011       7.717174      2.747377   \n",
       "min         0.000000       0.000000       0.000000      0.000000   \n",
       "25%         0.000000       0.000000       0.000000      0.000000   \n",
       "50%         0.000000       3.000000       0.000000      0.000000   \n",
       "75%         2.000000      24.000000       2.000000      1.000000   \n",
       "max        73.000000     191.000000     138.000000     42.000000   \n",
       "\n",
       "                  BB            SO           IBB            HBP            SH  \\\n",
       "count  102816.000000  94978.000000  66251.000000  100006.000000  96478.000000   \n",
       "mean       13.067207     20.529712      1.105870       1.056057      2.299540   \n",
       "std        20.746460     28.328542      2.780187       2.276251      4.241095   \n",
       "min         0.000000      0.000000      0.000000       0.000000      0.000000   \n",
       "25%         0.000000      1.000000      0.000000       0.000000      0.000000   \n",
       "50%         3.000000      9.000000      0.000000       0.000000      0.000000   \n",
       "75%        18.000000     29.000000      1.000000       1.000000      3.000000   \n",
       "max       232.000000    223.000000    120.000000      51.000000     67.000000   \n",
       "\n",
       "                 SF          GIDP  \n",
       "count  66782.000000  76706.000000  \n",
       "mean       1.054101      2.981018  \n",
       "std        1.961732      4.735153  \n",
       "min        0.000000      0.000000  \n",
       "25%        0.000000      0.000000  \n",
       "50%        0.000000      0.000000  \n",
       "75%        1.000000      4.000000  \n",
       "max       19.000000     36.000000  "
      ]
     },
     "execution_count": 72,
     "metadata": {},
     "output_type": "execute_result"
    }
   ],
   "source": [
    "# Describe the main statistics for this dataset\n",
    "batting_df.describe()"
   ]
  },
  {
   "cell_type": "code",
   "execution_count": 73,
   "metadata": {},
   "outputs": [
    {
     "name": "stdout",
     "output_type": "stream",
     "text": [
      "<class 'pandas.core.frame.DataFrame'>\n",
      "RangeIndex: 102816 entries, 0 to 102815\n",
      "Data columns (total 22 columns):\n",
      "playerID    102816 non-null object\n",
      "yearID      102816 non-null int64\n",
      "stint       102816 non-null int64\n",
      "teamID      102816 non-null object\n",
      "lgID        102079 non-null object\n",
      "G           102816 non-null int64\n",
      "AB          102816 non-null int64\n",
      "R           102816 non-null int64\n",
      "H           102816 non-null int64\n",
      "2B          102816 non-null int64\n",
      "3B          102816 non-null int64\n",
      "HR          102816 non-null int64\n",
      "RBI         102392 non-null float64\n",
      "SB          101516 non-null float64\n",
      "CS          79360 non-null float64\n",
      "BB          102816 non-null int64\n",
      "SO          94978 non-null float64\n",
      "IBB         66251 non-null float64\n",
      "HBP         100006 non-null float64\n",
      "SH          96478 non-null float64\n",
      "SF          66782 non-null float64\n",
      "GIDP        76706 non-null float64\n",
      "dtypes: float64(9), int64(10), object(3)\n",
      "memory usage: 17.3+ MB\n"
     ]
    }
   ],
   "source": [
    "# Describe the data structure\n",
    "batting_df.info()"
   ]
  },
  {
   "cell_type": "code",
   "execution_count": 74,
   "metadata": {},
   "outputs": [],
   "source": [
    "# Compile the data so each row can describe a player's career\n",
    "\n",
    "# Create dictionaries to hold player's data and years played\n",
    "player_stats = {}\n",
    "years_played = {}"
   ]
  },
  {
   "cell_type": "code",
   "execution_count": 75,
   "metadata": {},
   "outputs": [],
   "source": [
    "# Fill both dictionaries\n",
    "for i, row in batting_df.iterrows():\n",
    "    playerID = row['playerID']\n",
    "    if playerID in player_stats:\n",
    "        player_stats[playerID]['G'] = player_stats[playerID]['G'] + row['G']\n",
    "        player_stats[playerID]['AB'] = player_stats[playerID]['AB'] + row['AB']\n",
    "        player_stats[playerID]['R'] = player_stats[playerID]['R'] + row['R']\n",
    "        player_stats[playerID]['H'] = player_stats[playerID]['H'] + row['H']\n",
    "        player_stats[playerID]['2B'] = player_stats[playerID]['2B'] + row['2B']\n",
    "        player_stats[playerID]['3B'] = player_stats[playerID]['3B'] + row['3B']\n",
    "        player_stats[playerID]['HR'] = player_stats[playerID]['HR'] + row['HR']\n",
    "        player_stats[playerID]['RBI'] = player_stats[playerID]['RBI'] + row['RBI']\n",
    "        player_stats[playerID]['SB'] = player_stats[playerID]['SB'] + row['SB']\n",
    "        player_stats[playerID]['BB'] = player_stats[playerID]['BB'] + row['BB']\n",
    "        player_stats[playerID]['SO'] = player_stats[playerID]['SO'] + row['SO']\n",
    "        player_stats[playerID]['IBB'] = player_stats[playerID]['IBB'] + row['IBB']\n",
    "        player_stats[playerID]['HBP'] = player_stats[playerID]['HBP'] + row['HBP']\n",
    "        player_stats[playerID]['SH'] = player_stats[playerID]['SH'] + row['SH']\n",
    "        player_stats[playerID]['SF'] = player_stats[playerID]['SF'] + row['SF']\n",
    "        years_played[playerID].append(row['yearID'])\n",
    "    else:\n",
    "        player_stats[playerID] = {}\n",
    "        player_stats[playerID]['G'] = row['G']\n",
    "        player_stats[playerID]['AB'] = row['AB']\n",
    "        player_stats[playerID]['R'] = row['R']\n",
    "        player_stats[playerID]['H'] = row['H']\n",
    "        player_stats[playerID]['2B'] = row['2B']\n",
    "        player_stats[playerID]['3B'] = row['3B']\n",
    "        player_stats[playerID]['HR'] = row['HR']\n",
    "        player_stats[playerID]['RBI'] = row['RBI']\n",
    "        player_stats[playerID]['SB'] = row['SB']\n",
    "        player_stats[playerID]['BB'] = row['BB']\n",
    "        player_stats[playerID]['SO'] = row['SO']\n",
    "        player_stats[playerID]['IBB'] = row['IBB']\n",
    "        player_stats[playerID]['HBP'] = row['HBP']\n",
    "        player_stats[playerID]['SH'] = row['SH']\n",
    "        player_stats[playerID]['SF'] = row['SF']\n",
    "        years_played[playerID] = []\n",
    "        years_played[playerID].append(row['yearID'])"
   ]
  },
  {
   "cell_type": "code",
   "execution_count": 76,
   "metadata": {},
   "outputs": [],
   "source": [
    "# Add the number of years played into the player's stats dictionary\n",
    "for k, v in years_played.items():\n",
    "    player_stats[k]['Years_Played'] = len(list(set(v)))"
   ]
  },
  {
   "cell_type": "code",
   "execution_count": null,
   "metadata": {},
   "outputs": [],
   "source": []
  }
 ],
 "metadata": {
  "kernelspec": {
   "display_name": "Python 3",
   "language": "python",
   "name": "python3"
  },
  "language_info": {
   "codemirror_mode": {
    "name": "ipython",
    "version": 3
   },
   "file_extension": ".py",
   "mimetype": "text/x-python",
   "name": "python",
   "nbconvert_exporter": "python",
   "pygments_lexer": "ipython3",
   "version": "3.6.3"
  }
 },
 "nbformat": 4,
 "nbformat_minor": 2
}
